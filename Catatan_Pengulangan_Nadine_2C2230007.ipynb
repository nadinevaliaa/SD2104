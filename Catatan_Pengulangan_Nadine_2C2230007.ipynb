{
  "nbformat": 4,
  "nbformat_minor": 0,
  "metadata": {
    "colab": {
      "provenance": [],
      "include_colab_link": true
    },
    "kernelspec": {
      "name": "python3",
      "display_name": "Python 3"
    },
    "language_info": {
      "name": "python"
    }
  },
  "cells": [
    {
      "cell_type": "markdown",
      "metadata": {
        "id": "view-in-github",
        "colab_type": "text"
      },
      "source": [
        "<a href=\"https://colab.research.google.com/github/nadinevaliaa/SD2104/blob/main/Catatan_Pengulangan_Nadine_2C2230007.ipynb\" target=\"_parent\"><img src=\"https://colab.research.google.com/assets/colab-badge.svg\" alt=\"Open In Colab\"/></a>"
      ]
    },
    {
      "cell_type": "markdown",
      "source": [
        "#**🖥️👩🏻‍💻PRAKTIKUM PEMROGRAMAN LANJUT🔥**\n",
        "##**Pertemuan (2) PENGULANGAN (LOOP) - Senin, 21 Oktober 2024**\n",
        "\n",
        "👤 Nama: Nadine Valia Azzahra / NRP: 2C2230007 / Kelas: III/A Sains Data\n",
        "\n",
        "💬Deskripsi Pembahasan Materi Pengulangan:\n",
        "\n",
        "1.1.  Pengulangan (LOOP) 🔂\n",
        "- While Loop 🐋\n",
        "\n",
        "- For Loop\n",
        "\n",
        "1.2. Pengulangan Bersarang ( NESTED LOOP) 🔂🐦‍\n",
        "\n",
        "\n"
      ],
      "metadata": {
        "id": "_bN6_LxQCJZT"
      }
    },
    {
      "cell_type": "markdown",
      "source": [
        "#🤸🏻‍♀️ EKSPLORASI PRIBADI DI KELAS ✨"
      ],
      "metadata": {
        "id": "N0U2Qjks8P9F"
      }
    },
    {
      "cell_type": "markdown",
      "source": [
        "PENGENALAN LIST"
      ],
      "metadata": {
        "id": "nbPBBjr4MC1e"
      }
    },
    {
      "cell_type": "code",
      "execution_count": 2,
      "metadata": {
        "id": "itmMcxv88OIm",
        "colab": {
          "base_uri": "https://localhost:8080/"
        },
        "outputId": "3f75dd2b-7457-482a-c851-8231ec49bca2"
      },
      "outputs": [
        {
          "output_type": "stream",
          "name": "stdout",
          "text": [
            "[10, 2, 3]\n"
          ]
        }
      ],
      "source": [
        "my_list = [1, 2, 3]\n",
        "my_list[0] = 10\n",
        "print(my_list)"
      ]
    },
    {
      "cell_type": "markdown",
      "source": [
        "**Interpretasi Coding:** dari codingan diatas terdapat sebuah list bernama 'my_list' diinisialisasi dengan tiga elemen: [1, 2, 3]\n",
        "Kemudian di baris kedua 'my_list[0] = 10' mengubah elemen pertama (0) dari list 'my_list' menjadi 10.\n",
        "kemudian di baris ketiga 'print(my_list)' mencetak isi dari 'my_list' setelah perubahan dilakukan\n",
        "\n",
        "**Interpretasi Output:**\n",
        "Setelah elemen pertama diubah dari 1 menjadi 10, list sekarang berisi:\n",
        "*   elemen pertama menjadi 10 yang sebelumnya adalah 1\n",
        "*   elemen kedua tetap 2 (tidak berubah)\n",
        "*   elemen ketiga tetap 3 (tidak berubah)\n",
        "\n",
        "\n",
        "\n"
      ],
      "metadata": {
        "id": "IzAUztJU5n6a"
      }
    },
    {
      "cell_type": "markdown",
      "source": [
        "PENGENALAN TUPLE"
      ],
      "metadata": {
        "id": "a4TABo3_2eiD"
      }
    },
    {
      "cell_type": "code",
      "source": [
        "my_tuple = [1, 2, 3]\n",
        "my_tuple[0] = 10  # Akan menghasilkan error karena tuple tidak bisa diubah\n",
        "print(my_tuple)"
      ],
      "metadata": {
        "colab": {
          "base_uri": "https://localhost:8080/"
        },
        "id": "q2qZJcpZ2bXJ",
        "outputId": "7e00e778-d0d7-4458-ffb0-5c11182eecae"
      },
      "execution_count": 5,
      "outputs": [
        {
          "output_type": "stream",
          "name": "stdout",
          "text": [
            "[10, 2, 3]\n"
          ]
        }
      ]
    },
    {
      "cell_type": "markdown",
      "source": [
        "JENIS PERULANGAN: FOR LOOP"
      ],
      "metadata": {
        "id": "xobHQoGLMi0W"
      }
    },
    {
      "cell_type": "code",
      "source": [
        "var_list = [1,2,3,4,5,6,7,8,9,10]\n",
        "for i in var_list:\n",
        "  print(i)"
      ],
      "metadata": {
        "colab": {
          "base_uri": "https://localhost:8080/"
        },
        "id": "aGAlFZY_MeH1",
        "outputId": "00ad3d82-141b-4d3d-dbbb-0170ca8aec1f"
      },
      "execution_count": null,
      "outputs": [
        {
          "output_type": "stream",
          "name": "stdout",
          "text": [
            "1\n",
            "2\n",
            "3\n",
            "4\n",
            "5\n",
            "6\n",
            "7\n",
            "8\n",
            "9\n",
            "10\n"
          ]
        }
      ]
    },
    {
      "cell_type": "code",
      "source": [
        "huruf = \"ATEEZ COMEBACK SOON\"\n",
        "for i in huruf:\n",
        "  print(i)"
      ],
      "metadata": {
        "colab": {
          "base_uri": "https://localhost:8080/"
        },
        "id": "Ww_wJNw8OB-k",
        "outputId": "b339feb1-7b79-472a-a296-fa2634007a0f"
      },
      "execution_count": null,
      "outputs": [
        {
          "output_type": "stream",
          "name": "stdout",
          "text": [
            "A\n",
            "T\n",
            "E\n",
            "E\n",
            "Z\n",
            " \n",
            "C\n",
            "O\n",
            "M\n",
            "E\n",
            "B\n",
            "A\n",
            "C\n",
            "K\n",
            " \n",
            "S\n",
            "O\n",
            "O\n",
            "N\n"
          ]
        }
      ]
    },
    {
      "cell_type": "code",
      "source": [
        "for i in range(10):\n",
        "  print(i)"
      ],
      "metadata": {
        "colab": {
          "base_uri": "https://localhost:8080/"
        },
        "id": "FgcnHe7_26Kj",
        "outputId": "e10eab38-b4fa-4040-ecb9-557af7cd48ae"
      },
      "execution_count": 6,
      "outputs": [
        {
          "output_type": "stream",
          "name": "stdout",
          "text": [
            "0\n",
            "1\n",
            "2\n",
            "3\n",
            "4\n",
            "5\n",
            "6\n",
            "7\n",
            "8\n",
            "9\n"
          ]
        }
      ]
    },
    {
      "cell_type": "code",
      "source": [
        "for i in range (50):\n",
        "  print(\" pengen sare\")"
      ],
      "metadata": {
        "colab": {
          "base_uri": "https://localhost:8080/"
        },
        "id": "sspPp3L4PTi3",
        "outputId": "ea13a950-5b1e-4fe4-cc1a-261a22b1e6a3"
      },
      "execution_count": 20,
      "outputs": [
        {
          "output_type": "stream",
          "name": "stdout",
          "text": [
            " pengen sare\n",
            " pengen sare\n",
            " pengen sare\n",
            " pengen sare\n",
            " pengen sare\n",
            " pengen sare\n",
            " pengen sare\n",
            " pengen sare\n",
            " pengen sare\n",
            " pengen sare\n",
            " pengen sare\n",
            " pengen sare\n",
            " pengen sare\n",
            " pengen sare\n",
            " pengen sare\n",
            " pengen sare\n",
            " pengen sare\n",
            " pengen sare\n",
            " pengen sare\n",
            " pengen sare\n",
            " pengen sare\n",
            " pengen sare\n",
            " pengen sare\n",
            " pengen sare\n",
            " pengen sare\n",
            " pengen sare\n",
            " pengen sare\n",
            " pengen sare\n",
            " pengen sare\n",
            " pengen sare\n",
            " pengen sare\n",
            " pengen sare\n",
            " pengen sare\n",
            " pengen sare\n",
            " pengen sare\n",
            " pengen sare\n",
            " pengen sare\n",
            " pengen sare\n",
            " pengen sare\n",
            " pengen sare\n",
            " pengen sare\n",
            " pengen sare\n",
            " pengen sare\n",
            " pengen sare\n",
            " pengen sare\n",
            " pengen sare\n",
            " pengen sare\n",
            " pengen sare\n",
            " pengen sare\n",
            " pengen sare\n"
          ]
        }
      ]
    },
    {
      "cell_type": "code",
      "source": [
        "for i in range(1,10,2):\n",
        "  print(i)"
      ],
      "metadata": {
        "colab": {
          "base_uri": "https://localhost:8080/"
        },
        "id": "M5S-nxFzOvav",
        "outputId": "d1f9808d-6e36-4adc-f583-c8f92466a1b2"
      },
      "execution_count": null,
      "outputs": [
        {
          "output_type": "stream",
          "name": "stdout",
          "text": [
            "1\n",
            "3\n",
            "5\n",
            "7\n",
            "9\n"
          ]
        }
      ]
    },
    {
      "cell_type": "code",
      "source": [
        "for i in range(2,5,1):\n",
        "  print(i)"
      ],
      "metadata": {
        "colab": {
          "base_uri": "https://localhost:8080/"
        },
        "id": "Fdegb3HNQmbl",
        "outputId": "f18fbff1-00a4-4f97-bad9-dce24274cb1d"
      },
      "execution_count": null,
      "outputs": [
        {
          "output_type": "stream",
          "name": "stdout",
          "text": [
            "2\n",
            "3\n",
            "4\n"
          ]
        }
      ]
    },
    {
      "cell_type": "code",
      "source": [
        "for i in range(7 ,\t2,\t-1):\n",
        "   print(i)"
      ],
      "metadata": {
        "colab": {
          "base_uri": "https://localhost:8080/"
        },
        "id": "uYzV_4kW3K2l",
        "outputId": "b5251be9-2db1-4c8f-8030-9c4e9f535cbe"
      },
      "execution_count": 7,
      "outputs": [
        {
          "output_type": "stream",
          "name": "stdout",
          "text": [
            "7\n",
            "6\n",
            "5\n",
            "4\n",
            "3\n"
          ]
        }
      ]
    },
    {
      "cell_type": "code",
      "source": [
        "a = int( input( \"Masukkan angka antara 1 hingga 10:  \"))\n",
        "b = int( input( \"Masukkan angka antara 1 hingga 10:  \"))\n",
        "\n",
        "for i in range(a,b+1):\n",
        "  print(i)"
      ],
      "metadata": {
        "colab": {
          "base_uri": "https://localhost:8080/"
        },
        "id": "iunDtOJnS94f",
        "outputId": "0db77d7a-3efc-42a5-8ac7-891fdd567c8f"
      },
      "execution_count": 8,
      "outputs": [
        {
          "output_type": "stream",
          "name": "stdout",
          "text": [
            "Masukkan angka antara 1 hingga 10:  1\n",
            "Masukkan angka antara 1 hingga 10:  9\n",
            "1\n",
            "2\n",
            "3\n",
            "4\n",
            "5\n",
            "6\n",
            "7\n",
            "8\n",
            "9\n"
          ]
        }
      ]
    },
    {
      "cell_type": "markdown",
      "source": [
        "2. PERULANGAN: WHILE LOOP"
      ],
      "metadata": {
        "id": "XgUND6khT2nv"
      }
    },
    {
      "cell_type": "code",
      "source": [
        "counter = 1\n",
        "while counter <= 5:\n",
        "  print(counter)\n",
        "  counter += 1"
      ],
      "metadata": {
        "colab": {
          "base_uri": "https://localhost:8080/"
        },
        "id": "lYDlaWcrT0aG",
        "outputId": "f3145a3c-163c-4f71-a3f0-197e394b4cdc"
      },
      "execution_count": null,
      "outputs": [
        {
          "output_type": "stream",
          "name": "stdout",
          "text": [
            "1\n",
            "2\n",
            "3\n",
            "4\n",
            "5\n"
          ]
        }
      ]
    },
    {
      "cell_type": "code",
      "source": [
        "a = int( input())\n",
        "b = int( input())\n",
        "\n",
        "i = 5\n",
        "while i<=10:\n",
        "  print(i)\n",
        "  i += 1"
      ],
      "metadata": {
        "colab": {
          "base_uri": "https://localhost:8080/"
        },
        "id": "m-xifgMDUths",
        "outputId": "542a4ce8-9008-42d2-9fc6-ccb1784a2dc1"
      },
      "execution_count": null,
      "outputs": [
        {
          "output_type": "stream",
          "name": "stdout",
          "text": [
            "1\n",
            "9\n",
            "5\n",
            "6\n",
            "7\n",
            "8\n",
            "9\n",
            "10\n"
          ]
        }
      ]
    },
    {
      "cell_type": "markdown",
      "source": [
        "3. PERULANGAN: FOR NESTED LOOP"
      ],
      "metadata": {
        "id": "Yg-1YrAQWXru"
      }
    },
    {
      "cell_type": "code",
      "source": [
        "n = int(input())\n",
        "\n",
        "for i in range(n):\n",
        "  for j in range(n):\n",
        "    print(\"*\", end=\"\")"
      ],
      "metadata": {
        "colab": {
          "base_uri": "https://localhost:8080/"
        },
        "id": "C8Z79MWOWbrG",
        "outputId": "d8eb1677-bb60-48d2-aa97-10e2936bed67"
      },
      "execution_count": null,
      "outputs": [
        {
          "output_type": "stream",
          "name": "stdout",
          "text": [
            "2\n",
            "****"
          ]
        }
      ]
    },
    {
      "cell_type": "markdown",
      "source": [
        "LATIHAN SOAL DI KELAS"
      ],
      "metadata": {
        "id": "URWZ2Zxd3taY"
      }
    },
    {
      "cell_type": "code",
      "source": [
        "# KELIPATAN 5 TERKECIL\n",
        "\n",
        "# input bilangan N\n",
        "N = int(input(\"Masukkan N: \"))\n",
        "\n",
        "# Mencari kelipatan 5 terkecil yang lebih besar dari N\n",
        "i = N + 1\n",
        "while i%5 !=0:\n",
        "    i += 1\n",
        "\n",
        "print(\"Output:\", i)"
      ],
      "metadata": {
        "colab": {
          "base_uri": "https://localhost:8080/"
        },
        "id": "kiNGj1ckZIen",
        "outputId": "6c3f1a5a-ed9e-4d17-c1ef-4d3ea9230e46"
      },
      "execution_count": null,
      "outputs": [
        {
          "output_type": "stream",
          "name": "stdout",
          "text": [
            "Masukkan N: 5\n",
            "Output: 10\n"
          ]
        }
      ]
    },
    {
      "cell_type": "code",
      "source": [
        "# POLA SEGITIGA BINTANG\n",
        "\n",
        "# input dari pengguna\n",
        "N = int(input (' masukkan nilai N: '))\n",
        "\n",
        "# cetak pola segitiga bintang\n",
        "for i in range(1, N+1):\n",
        "  print('*' * i)"
      ],
      "metadata": {
        "colab": {
          "base_uri": "https://localhost:8080/"
        },
        "id": "okUvA7SyaStI",
        "outputId": "e3fa3312-8855-4f0e-c795-c915c314ba82"
      },
      "execution_count": null,
      "outputs": [
        {
          "output_type": "stream",
          "name": "stdout",
          "text": [
            " masukkan nilai N: 5\n",
            "*\n",
            "**\n",
            "***\n",
            "****\n",
            "*****\n"
          ]
        }
      ]
    },
    {
      "cell_type": "code",
      "source": [
        "# SEGITIGA ANGKA TERBALIK\n",
        "\n",
        "N = int(input(\"Masukkan bilangan N: \"))\n",
        "for i in range(N, 0, -1):\n",
        "    for j in range(1, i+1):\n",
        "        print(j, end=\"\")\n",
        "    print()"
      ],
      "metadata": {
        "colab": {
          "base_uri": "https://localhost:8080/"
        },
        "id": "1vc5IsAs37E4",
        "outputId": "921cab0b-a9c8-4b94-dd82-6aa7b8ccd791"
      },
      "execution_count": 11,
      "outputs": [
        {
          "output_type": "stream",
          "name": "stdout",
          "text": [
            "Masukkan bilangan N: 4\n",
            "1234\n",
            "123\n",
            "12\n",
            "1\n"
          ]
        }
      ]
    },
    {
      "cell_type": "code",
      "source": [
        "# POLA PIRAMIDA ANGKA\n",
        "\n",
        "N = int(input(\"Masukkan nilai N: \"))\n",
        "\n",
        "# Cetak pola piramida angka\n",
        "for i in range(1, N+1):\n",
        "    print(' ' * (N-i) + ''.join(str(x) for x in range(1, 2*i)))"
      ],
      "metadata": {
        "colab": {
          "base_uri": "https://localhost:8080/"
        },
        "id": "iatlcdeS4Gcm",
        "outputId": "4752acf3-c519-4d82-90f3-3ba205b2bfbd"
      },
      "execution_count": 10,
      "outputs": [
        {
          "output_type": "stream",
          "name": "stdout",
          "text": [
            "Masukkan nilai N: 3\n",
            "  1\n",
            " 123\n",
            "12345\n"
          ]
        }
      ]
    },
    {
      "cell_type": "code",
      "source": [
        "N = int(input(\"Masukkan nilai N: \"))\n",
        "\n",
        "# Loop dari 1 hingga N\n",
        "for x in range(1, N + 1):\n",
        "    if x % 2 == 0 and x % 3 == 0:\n",
        "        print(\"DuaTiga\", end=\" \")\n",
        "    elif x % 2 == 0:\n",
        "        print(\"Dua\", end=\" \")\n",
        "    elif x % 3 == 0:\n",
        "        print(\"Tiga\", end=\" \")\n",
        "    else:\n",
        "        print(x, end=\" \")\n",
        "print()"
      ],
      "metadata": {
        "colab": {
          "base_uri": "https://localhost:8080/"
        },
        "id": "oZQCrNZoKC6l",
        "outputId": "5e8e43d3-fc01-4779-ffff-05d01d409da8"
      },
      "execution_count": 19,
      "outputs": [
        {
          "output_type": "stream",
          "name": "stdout",
          "text": [
            "Masukkan nilai N: 10\n",
            "1 Dua Tiga Dua 5 DuaTiga 7 Dua Tiga Dua \n"
          ]
        }
      ]
    },
    {
      "cell_type": "markdown",
      "source": [
        "- Interpretasi coding:\n",
        "\n",
        "- Interpretasi Hasil:"
      ],
      "metadata": {
        "id": "f1J9LJyv9-YC"
      }
    },
    {
      "cell_type": "markdown",
      "source": [
        "#🧠 LATIHAN SOAL DI KELAS ⏱️"
      ],
      "metadata": {
        "id": "KEGjH0_P9D1-"
      }
    },
    {
      "cell_type": "markdown",
      "source": [
        "Problem (1) Kalkulator Sederhana"
      ],
      "metadata": {
        "id": "nt7-fY7s9PgC"
      }
    },
    {
      "cell_type": "code",
      "source": [
        "# Kelipatan 10 terkecil\n",
        "def kelipatan_10_terkecil(N):\n",
        "    # Mencari kelipatan 10 terkecil yang lebih besar dari N\n",
        "    kelipatan = 10\n",
        "    while kelipatan <= N:\n",
        "        kelipatan += 10\n",
        "    return kelipatan\n",
        "\n",
        "# Menerima input dari user\n",
        "N = int(input(\"Masukan N: \"))\n",
        "\n",
        "# tampilkan hasil\n",
        "hasil = kelipatan_10_terkecil(N)\n",
        "print(hasil)"
      ],
      "metadata": {
        "id": "h7si6sBj9Mr4",
        "colab": {
          "base_uri": "https://localhost:8080/"
        },
        "outputId": "1a1425a0-5c4c-4ce3-b6c4-5a64a8fb32aa"
      },
      "execution_count": 18,
      "outputs": [
        {
          "output_type": "stream",
          "name": "stdout",
          "text": [
            "Masukan N: 5\n",
            "10\n"
          ]
        }
      ]
    },
    {
      "cell_type": "markdown",
      "source": [
        "**- Interpretasi coding:**\n",
        "Di baris pertama, terdapat sebuah fungsi *'kelipatan10_terkecil'* di definisikan dengan satu parameter, yaitu 'N'.\n",
        "\n",
        "*'kelipatan = 10'*\n",
        "variabel *'kelipatan'* diinisialisasi dengan nilai 10, yang merupakan kelipatan 10 pertama.\n",
        "\n",
        "kemudian terdapat loop:\n",
        "while kelipatan <= N:\n",
        "   kelipatan += 10. *italicized text*\n",
        "loop *'while'* ini akan terus berjalan selama nilai *'kelipatan' *kurang dari atau sama dengan *'N'*\n",
        "di dalam loop, nilai *'kelipatan'* ditambah 10 pada setiap iterasi.\n",
        "\n",
        "*'return kelipatan'*\n",
        "setelah loop selesai fungsi ini mengembalikan nilai *'kelipatan'*, yaitu kelipatan 10 terkecil yang lebih besar dari *'N'*.\n",
        "\n",
        "hasil dari fungsi *'kelipatan_10_terkecil' *disimpan dalam variabel *'hasil'*, kemudian dicetak ke layar.\n",
        "\n",
        "\n",
        "**- Interpretasi Hasil:**\n",
        "Fungsi *'kelipatan_10_terkecil(5)'* kemudian dipanggil.\n",
        "\n",
        "Proses perhitungan di dalam fungsi adalah sebagai berikut:\n",
        "\n",
        "Inisialisasi kelipatan dengan nilai 10.\n",
        "Memeriksa apakah kelipatan (10) kurang dari atau sama dengan N (5). Karena kondisi ini tidak terpenuhi, loop tidak dijalankan.\n",
        "Setelah loop selesai (yang tidak dijalankan dalam kasus ini), fungsi mengembalikan nilai kelipatan, yaitu 10.\n",
        "Sehingga, output akhir menunjukkan bahwa kelipatan 10 terkecil yang lebih besar dari 5 adalah 10, dan itulah yang dicetak sebagai hasil.\n"
      ],
      "metadata": {
        "id": "Wou8YKfJ9lvY"
      }
    },
    {
      "cell_type": "markdown",
      "source": [
        "Problem (2) Bilangan Ganjil"
      ],
      "metadata": {
        "id": "Eucg6DUK9fgA"
      }
    },
    {
      "cell_type": "code",
      "source": [
        "def segitiga_angka(n):\n",
        "    # Loop luar untuk mengulang setiap baris\n",
        "    for i in range(1, n + 1):\n",
        "        # Loop dalam untuk mencetak angka pada setiap baris\n",
        "        for j in range(1, i + 1):\n",
        "            print(j, end='')\n",
        "        # Pindah ke baris baru setelah setiap baris selesai\n",
        "        print()\n",
        "\n",
        "# Input bilangan bulat N dari pengguna\n",
        "n = int(input(\"Masukkan N: \"))\n",
        "\n",
        "# Panggil fungsi untuk membuat pola segitiga angka\n",
        "segitiga_angka(n)"
      ],
      "metadata": {
        "id": "9uWMEZpP9hlB",
        "colab": {
          "base_uri": "https://localhost:8080/"
        },
        "outputId": "cee619da-2075-4bab-aa7c-277e6bf308c7"
      },
      "execution_count": 17,
      "outputs": [
        {
          "output_type": "stream",
          "name": "stdout",
          "text": [
            "Masukkan N: 5\n",
            "1\n",
            "12\n",
            "123\n",
            "1234\n",
            "12345\n"
          ]
        }
      ]
    },
    {
      "cell_type": "markdown",
      "source": [
        "**- Interpretasi coding:**\n",
        "\n",
        "fungsi *'segitiga_angka'* di definisikan dengan satu parameter, yaitu *'n'*.\n",
        "\n",
        "pada baris ketiga terdapat loop *'for i in range(1, n + 1)'* loop ini mengulang dari 1 hingga n, di mana setiap iterasi merepresentasikan satu baris dari segitiga angka\n",
        "\n",
        "kemudian terdapat loop\n",
        "for j in range(1, i+1):\n",
        "    print(j, end='')\n",
        "loop ini mengulang dari 1 hingga *'i'*, di mana *'i'* adalah nomor baris saat ini.\n",
        "pada setiap irerasi, angka *'j'* di cetak tanpa berpindah ke baris baru (karena penggunaan 'end=''), sehingga semua angka pada baris yang sama akan di cetak bersebelahan.\n",
        "\n",
        "*'segitiga_angka'*\n",
        "fungsi tsb dipanggil dengan argumen 'n' yang telah dimasukkan oleh pengguna\n",
        "\n",
        "\n",
        "**- Interpretasi Hasil:**\n",
        "\n",
        "Fungsi segitiga_angka(5) kemudian dipanggil dan menghasilkan pola segitiga angka sebagai berikut:\n",
        "Baris pertama (i=1): Mencetak angka 1.\n",
        "Baris kedua (i=2): Mencetak angka 1 dan 2.\n",
        "Baris ketiga (i=3): Mencetak angka 1, 2, dan 3.\n",
        "Baris keempat (i=4): Mencetak angka 1, 2, 3, dan 4.\n",
        "Baris kelima (i=5): Mencetak angka 1, 2, 3, 4, dan 5.\n"
      ],
      "metadata": {
        "id": "fM9Fo97_93Ni"
      }
    },
    {
      "cell_type": "markdown",
      "source": [
        "#🏆 POST TEST 🎯"
      ],
      "metadata": {
        "id": "J_75vTSXKFGE"
      }
    },
    {
      "cell_type": "markdown",
      "source": [
        "Problem (1)"
      ],
      "metadata": {
        "id": "twhHfrqiKSfV"
      }
    },
    {
      "cell_type": "code",
      "source": [
        "def siap_bang_jago(N, A, B, C):\n",
        "    # Iterasi dari 1 sampai N\n",
        "    for x in range(1, N + 1):\n",
        "        output = \"\"\n",
        "\n",
        "        # Jika x kelipatan dari A, tambahkan 'Siap' ke output\n",
        "        if x % A == 0:\n",
        "            output += \"Siap\"\n",
        "\n",
        "        # Jika x kelipatan dari B, tambahkan 'Bang' ke output\n",
        "        if x % B == 0:\n",
        "            output += \"Bang\"\n",
        "\n",
        "        # Jika x kelipatan dari C, tambahkan 'Jago' ke output\n",
        "        if x % C == 0:\n",
        "            output += \"Jago\"\n",
        "\n",
        "        # Jika output kosong, cetak angkanya saja\n",
        "        if output == \"\":\n",
        "            print(x)\n",
        "        else:\n",
        "            print(output)\n",
        "\n",
        "# Input nilai N, A, B, C dari user\n",
        "N = int(input(\"Masukkan nilai N: \"))\n",
        "A = int(input(\"Masukkan nilai A: \"))\n",
        "B = int(input(\"Masukkan nilai B: \"))\n",
        "C = int(input(\"Masukkan nilai C: \"))\n",
        "\n",
        "# Panggil fungsi\n",
        "siap_bang_jago(N, A, B, C)"
      ],
      "metadata": {
        "id": "hOI8Gls9KV05",
        "colab": {
          "base_uri": "https://localhost:8080/"
        },
        "outputId": "5434fe1b-7663-4c9b-b9ee-67a9cf616fc0"
      },
      "execution_count": 12,
      "outputs": [
        {
          "output_type": "stream",
          "name": "stdout",
          "text": [
            "Masukkan nilai N: 12\n",
            "Masukkan nilai A: 2\n",
            "Masukkan nilai B: 3\n",
            "Masukkan nilai C: 4\n",
            "1\n",
            "Siap\n",
            "Bang\n",
            "SiapJago\n",
            "5\n",
            "SiapBang\n",
            "7\n",
            "SiapJago\n",
            "Bang\n",
            "Siap\n",
            "11\n",
            "SiapBangJago\n"
          ]
        }
      ]
    },
    {
      "cell_type": "code",
      "source": [
        "def siap_bang_jago(N, A, B, C):\n",
        "    # Iterasi dari 1 sampai N\n",
        "    for x in range(1, N + 1):\n",
        "        output = \"\"\n",
        "\n",
        "        # Jika x kelipatan dari A, tambahkan 'Siap' ke output\n",
        "        if x % A == 0:\n",
        "            output += \"Siap\"\n",
        "\n",
        "        # Jika x kelipatan dari B, tambahkan 'Bang' ke output\n",
        "        if x % B == 0:\n",
        "            output += \"Bang\"\n",
        "\n",
        "        # Jika x kelipatan dari C, tambahkan 'Jago' ke output\n",
        "        if x % C == 0:\n",
        "            output += \"Jago\"\n",
        "\n",
        "        # Jika output kosong, cetak angkanya saja\n",
        "        if output == \"\":\n",
        "            print(x)\n",
        "        else:\n",
        "            print(output)\n",
        "\n",
        "# Input nilai N, A, B, C dari user\n",
        "N = int(input(\"Masukkan nilai N: \"))\n",
        "A = int(input(\"Masukkan nilai A: \"))\n",
        "B = int(input(\"Masukkan nilai B: \"))\n",
        "C = int(input(\"Masukkan nilai C: \"))\n",
        "\n",
        "# Panggil fungsi\n",
        "siap_bang_jago(N, A, B, C)1"
      ],
      "metadata": {
        "colab": {
          "base_uri": "https://localhost:8080/"
        },
        "id": "f5trUu9gRYXk",
        "outputId": "7413be8a-a6f6-423b-9b59-b3bb8af740c8"
      },
      "execution_count": 21,
      "outputs": [
        {
          "output_type": "stream",
          "name": "stdout",
          "text": [
            "Masukkan nilai N: 5\n",
            "Masukkan nilai A: 1\n",
            "Masukkan nilai B: 1\n",
            "Masukkan nilai C: 1\n",
            "SiapBangJago\n",
            "SiapBangJago\n",
            "SiapBangJago\n",
            "SiapBangJago\n",
            "SiapBangJago\n"
          ]
        }
      ]
    },
    {
      "cell_type": "markdown",
      "source": [
        "- **Interpretasi coding:**\n",
        "1. **Fungsi siap_bang_jago(N, A, B, C):**\n",
        "\n",
        "Fungsi ini akan melakukan iterasi dari angka 1 hingga N\n",
        "\n",
        "Setiap angka diperiksa apakah merupakan kelipatan dari A, B, atau C.\n",
        "\n",
        "Jika angka tersebut adalah kelipatan dari A, maka akan ditambahkan kata \"Siap\" ke variabel output.\n",
        "\n",
        "Jika angka tersebut adalah kelipatan dari B, maka akan ditambahkan kata \"Bang\".\n",
        "\n",
        "Jika angka tersebut adalah kelipatan dari C, maka akan ditambahkan kata \"Jago\".\n",
        "\n",
        "Jika suatu angka bukan kelipatan dari A, B, atau C, maka angka itu sendiri yang akan ditampilkan.\n",
        "\n",
        "Setelah pengecekan selesai untuk setiap angka, hasilnya dicetak: baik berupa angka itu sendiri atau gabungan kata \"Siap\", \"Bang\", \"Jago\" tergantung kondisi kelipatannya.\n",
        "\n",
        "**Iterasi Angka (Looping dari 1 sampai N):**\n",
        "\n",
        "Program akan melakukan pengecekan pada setiap angka, mulai dari 1 hingga N. Untuk setiap angka, program akan melihat apakah angka tersebut bisa dibagi habis (kelipatan) oleh A, B, atau C\n",
        "\n",
        "\n",
        "\n",
        "3. **Pengecekan Kelipatan:**\n",
        "\n",
        "Penggunaan operator modulus (%) digunakan untuk memeriksa apakah suatu angka merupakan kelipatan dari A, B, atau C.\n",
        "\n",
        "Contoh: Jika x % A == 0, artinya x adalah kelipatan dari A\n",
        "\n",
        "4. **Penggabungan Output:**\n",
        "\n",
        "Jika suatu angka adalah kelipatan dari lebih dari satu bilangan (misalnya kelipatan A dan B), maka kedua kata yang sesuai akan digabungkan dalam output, contohnya: \"SiapBang\"\n",
        "\n",
        "\n",
        "5. **Input:**\n",
        "\n",
        "Program meminta pengguna untuk memasukkan nilai N (batas iterasi) serta angka A, B, dan C\n",
        "\n",
        "\n",
        "- **Interpretasi hasil:**\n",
        "\n",
        "**Test Case 1:**\n",
        "Angka 1: Bukan kelipatan dari A, B, atau C, jadi program mencetak angka 1.\n",
        "\n",
        "Angka 2: Kelipatan dari A (2), maka program mencetak \"Siap\".\n",
        "\n",
        "Angka 3: Kelipatan dari B (3), maka program mencetak \"Bang\".\n",
        "\n",
        "Angka 4: Kelipatan dari A dan C (4), maka program mencetak \"SiapJago\".\n",
        "\n",
        "Angka 5: Bukan kelipatan dari A, B, atau C, jadi program mencetak angka 5.\n",
        "\n",
        "Angka 6: Kelipatan dari A (2) dan B (3), maka program mencetak \"SiapBang\".\n",
        "\n",
        "Angka 7: Bukan kelipatan dari A, B, atau C, jadi program mencetak angka 7.\n",
        "\n",
        "Angka 8: Kelipatan dari A (2) dan C (4), maka program mencetak \"SiapJago\".\n",
        "\n",
        "Angka 9: Kelipatan dari B (3), maka program mencetak \"Bang\".\n",
        "\n",
        "Angka 10: Kelipatan dari A (2), maka program mencetak \"Siap\".\n",
        "\n",
        "Angka 11: Bukan kelipatan dari A, B, atau C, jadi program mencetak angka 11.\n",
        "\n",
        "Angka 12: Kelipatan dari A (2), B (3), dan C (4), maka program mencetak \"SiapBangJago\".\n",
        "\n",
        "**Test Case 2:**\n",
        "setiap angka dari 1 hingga 5 adalah kelipatan dari A, B, dan C (semua angka adalah kelipatan dari 1), maka setiap angka dari 1 hingga 5 akan mencetak \"SiapBangJago\".\n"
      ],
      "metadata": {
        "id": "t9x---59KWVI"
      }
    },
    {
      "cell_type": "markdown",
      "source": [
        "📌Catatan:\n",
        "  - Notebook python ini dibuat untuk memudahkan temen-temen belajar ngoding dan pengumpulan tugas.\n",
        "  - Silakan download notebook ini lalu upload di Google Collab milik kalian agar format `pertemuan`, `topik pertemuan`,\n",
        "`tanggal`, `deskripsi pembahasan materi`, `baris coding` dan `interpretasi` bisa disesuaikan dengan kebutuhan teman-teman.\n",
        "\n",
        "  - Interpretasi coding dan hasil dimaksudkan agar teman-teman semakin memahami apa yang dipelajari.\n",
        "\n",
        "  - Deskripsi pembahasan materi dimaksudkan agar teman-teman semakin memahami apa fokus yang dipelajari.\n",
        "\n",
        "  - Tulisan di setiap sebelum baris code disebut `markdown`. Ada beberapa jenis simbol yang memudahkan kepenulisan `markdown` kita, yaitu seperti : untuk mengatur ukuran tulisan biasanya tulisan pada header menggunakan ini`#`, `##`, `###`, untuk membuat pointer menggunakan ini `-`, untuk membuat tulisan ter-highlight menggunakan ini *` `* , untuk short-cut membuat tulisan jadi **bold** gunakan ini `** **`, dan untuk *tulisan miring* gunakan ini `* *` .\n",
        "\n",
        "  - Semangat belajar! 🌟✨\n",
        "\n",
        "©️ LABORATORIUM SAINS DATA 2024"
      ],
      "metadata": {
        "id": "D-tRQnbQK69l"
      }
    }
  ]
}