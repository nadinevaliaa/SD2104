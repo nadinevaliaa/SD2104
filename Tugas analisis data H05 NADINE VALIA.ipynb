{
 "cells": [
  {
   "cell_type": "markdown",
   "metadata": {},
   "source": [
    "# PROBLEM 1"
   ]
  },
  {
   "cell_type": "code",
   "execution_count": 2,
   "metadata": {},
   "outputs": [
    {
     "name": "stdout",
     "output_type": "stream",
     "text": [
      "Requirement already satisfied: pandas in c:\\users\\user\\appdata\\local\\programs\\python\\python312\\lib\\site-packages (2.2.3)\n",
      "Requirement already satisfied: numpy>=1.26.0 in c:\\users\\user\\appdata\\local\\programs\\python\\python312\\lib\\site-packages (from pandas) (2.2.1)\n",
      "Requirement already satisfied: python-dateutil>=2.8.2 in c:\\users\\user\\appdata\\roaming\\python\\python312\\site-packages (from pandas) (2.9.0.post0)\n",
      "Requirement already satisfied: pytz>=2020.1 in c:\\users\\user\\appdata\\local\\programs\\python\\python312\\lib\\site-packages (from pandas) (2024.2)\n",
      "Requirement already satisfied: tzdata>=2022.7 in c:\\users\\user\\appdata\\local\\programs\\python\\python312\\lib\\site-packages (from pandas) (2024.2)\n",
      "Requirement already satisfied: six>=1.5 in c:\\users\\user\\appdata\\roaming\\python\\python312\\site-packages (from python-dateutil>=2.8.2->pandas) (1.17.0)\n"
     ]
    },
    {
     "name": "stderr",
     "output_type": "stream",
     "text": [
      "\n",
      "[notice] A new release of pip is available: 24.0 -> 24.3.1\n",
      "[notice] To update, run: python.exe -m pip install --upgrade pip\n"
     ]
    }
   ],
   "source": [
    "!pip install pandas\n",
    "\n",
    "import pandas as pd"
   ]
  },
  {
   "cell_type": "code",
   "execution_count": 11,
   "metadata": {},
   "outputs": [
    {
     "data": {
      "text/html": [
       "<div>\n",
       "<style scoped>\n",
       "    .dataframe tbody tr th:only-of-type {\n",
       "        vertical-align: middle;\n",
       "    }\n",
       "\n",
       "    .dataframe tbody tr th {\n",
       "        vertical-align: top;\n",
       "    }\n",
       "\n",
       "    .dataframe thead th {\n",
       "        text-align: right;\n",
       "    }\n",
       "</style>\n",
       "<table border=\"1\" class=\"dataframe\">\n",
       "  <thead>\n",
       "    <tr style=\"text-align: right;\">\n",
       "      <th></th>\n",
       "      <th>nama</th>\n",
       "      <th>fakultas</th>\n",
       "      <th>nilai_mat</th>\n",
       "      <th>nilai_kim</th>\n",
       "      <th>nilai_fis</th>\n",
       "    </tr>\n",
       "  </thead>\n",
       "  <tbody>\n",
       "    <tr>\n",
       "      <th>0</th>\n",
       "      <td>Farhan Fathur Rahman</td>\n",
       "      <td>FMIPA</td>\n",
       "      <td>57.21</td>\n",
       "      <td>34.14</td>\n",
       "      <td>38.93</td>\n",
       "    </tr>\n",
       "    <tr>\n",
       "      <th>1</th>\n",
       "      <td>Steven Margono</td>\n",
       "      <td>FMIPA</td>\n",
       "      <td>67.43</td>\n",
       "      <td>51.50</td>\n",
       "      <td>57.20</td>\n",
       "    </tr>\n",
       "    <tr>\n",
       "      <th>2</th>\n",
       "      <td>Ryan Sentosa</td>\n",
       "      <td>SAPPK</td>\n",
       "      <td>90.62</td>\n",
       "      <td>37.38</td>\n",
       "      <td>40.73</td>\n",
       "    </tr>\n",
       "    <tr>\n",
       "      <th>3</th>\n",
       "      <td>Muhajah Babny Muslim</td>\n",
       "      <td>FMIPA</td>\n",
       "      <td>72.31</td>\n",
       "      <td>38.80</td>\n",
       "      <td>44.79</td>\n",
       "    </tr>\n",
       "    <tr>\n",
       "      <th>4</th>\n",
       "      <td>Alvin Natawiguna</td>\n",
       "      <td>FTSL</td>\n",
       "      <td>65.45</td>\n",
       "      <td>57.67</td>\n",
       "      <td>56.39</td>\n",
       "    </tr>\n",
       "    <tr>\n",
       "      <th>...</th>\n",
       "      <td>...</td>\n",
       "      <td>...</td>\n",
       "      <td>...</td>\n",
       "      <td>...</td>\n",
       "      <td>...</td>\n",
       "    </tr>\n",
       "    <tr>\n",
       "      <th>5130</th>\n",
       "      <td>Khoirrashif</td>\n",
       "      <td>SITHR</td>\n",
       "      <td>66.14</td>\n",
       "      <td>46.82</td>\n",
       "      <td>56.74</td>\n",
       "    </tr>\n",
       "    <tr>\n",
       "      <th>5131</th>\n",
       "      <td>Jefri Hendri Adriano</td>\n",
       "      <td>FTSL</td>\n",
       "      <td>53.68</td>\n",
       "      <td>34.74</td>\n",
       "      <td>33.76</td>\n",
       "    </tr>\n",
       "    <tr>\n",
       "      <th>5132</th>\n",
       "      <td>Iki Hidayat</td>\n",
       "      <td>FITB</td>\n",
       "      <td>69.63</td>\n",
       "      <td>35.04</td>\n",
       "      <td>37.65</td>\n",
       "    </tr>\n",
       "    <tr>\n",
       "      <th>5133</th>\n",
       "      <td>Muhammad Nashir Sitompul</td>\n",
       "      <td>FTI</td>\n",
       "      <td>79.69</td>\n",
       "      <td>39.06</td>\n",
       "      <td>50.17</td>\n",
       "    </tr>\n",
       "    <tr>\n",
       "      <th>5134</th>\n",
       "      <td>Billy Richardo Sagala</td>\n",
       "      <td>STEI</td>\n",
       "      <td>68.68</td>\n",
       "      <td>51.23</td>\n",
       "      <td>66.18</td>\n",
       "    </tr>\n",
       "  </tbody>\n",
       "</table>\n",
       "<p>5135 rows × 5 columns</p>\n",
       "</div>"
      ],
      "text/plain": [
       "                          nama fakultas  nilai_mat  nilai_kim  nilai_fis\n",
       "0         Farhan Fathur Rahman    FMIPA      57.21      34.14      38.93\n",
       "1               Steven Margono    FMIPA      67.43      51.50      57.20\n",
       "2                 Ryan Sentosa    SAPPK      90.62      37.38      40.73\n",
       "3         Muhajah Babny Muslim    FMIPA      72.31      38.80      44.79\n",
       "4             Alvin Natawiguna     FTSL      65.45      57.67      56.39\n",
       "...                        ...      ...        ...        ...        ...\n",
       "5130               Khoirrashif    SITHR      66.14      46.82      56.74\n",
       "5131      Jefri Hendri Adriano     FTSL      53.68      34.74      33.76\n",
       "5132               Iki Hidayat     FITB      69.63      35.04      37.65\n",
       "5133  Muhammad Nashir Sitompul      FTI      79.69      39.06      50.17\n",
       "5134     Billy Richardo Sagala     STEI      68.68      51.23      66.18\n",
       "\n",
       "[5135 rows x 5 columns]"
      ]
     },
     "execution_count": 11,
     "metadata": {},
     "output_type": "execute_result"
    }
   ],
   "source": [
    "df = pd.read_csv('C:/MATERI SEMESTER 3/Pemrograman Lanjut/H05.csv')\n",
    "df"
   ]
  },
  {
   "cell_type": "markdown",
   "metadata": {},
   "source": [
    "# 1.1. HITUNG BANYAKNYA DATA"
   ]
  },
  {
   "cell_type": "code",
   "execution_count": 3,
   "metadata": {},
   "outputs": [
    {
     "name": "stdout",
     "output_type": "stream",
     "text": [
      "Jumlah data: 5135\n"
     ]
    }
   ],
   "source": [
    "import pandas as pd\n",
    "\n",
    "data = pd.read_csv('C:/MATERI SEMESTER 3/Pemrograman Lanjut/H05.csv')\n",
    "\n",
    "jumlah_data = len(data)\n",
    "\n",
    "jumlah_data_alt = data.shape[0]\n",
    "\n",
    "print(\"Jumlah data:\", jumlah_data)"
   ]
  },
  {
   "cell_type": "markdown",
   "metadata": {},
   "source": [
    "# 2.1. TAMPILKAN 10 DATA PERTAMA"
   ]
  },
  {
   "cell_type": "code",
   "execution_count": 4,
   "metadata": {},
   "outputs": [
    {
     "name": "stdout",
     "output_type": "stream",
     "text": [
      "                             nama fakultas  nilai_mat  nilai_kim  nilai_fis\n",
      "0            Farhan Fathur Rahman    FMIPA      57.21      34.14      38.93\n",
      "1                  Steven Margono    FMIPA      67.43      51.50      57.20\n",
      "2                    Ryan Sentosa    SAPPK      90.62      37.38      40.73\n",
      "3            Muhajah Babny Muslim    FMIPA      72.31      38.80      44.79\n",
      "4                Alvin Natawiguna     FTSL      65.45      57.67      56.39\n",
      "5                   Sasti Safitri     FTSL      60.58      41.91      51.55\n",
      "6             Dani Yulianto Putra     FTSL      51.67      35.05      48.69\n",
      "7  Nabila Febitsukarizky Bunyamin     FTTM      71.66      67.61      69.75\n",
      "8             Ratna Siti Khodijah      FTI      73.06      59.16      59.48\n",
      "9                    Gita Partiwi     FTSL      69.57      38.84      48.17\n"
     ]
    }
   ],
   "source": [
    "print(data.head(10))"
   ]
  },
  {
   "cell_type": "markdown",
   "metadata": {},
   "source": [
    "# 3.1. TAMPILKAN DATA KE-50 SAMPAI DATA KE-60"
   ]
  },
  {
   "cell_type": "code",
   "execution_count": 5,
   "metadata": {},
   "outputs": [
    {
     "name": "stdout",
     "output_type": "stream",
     "text": [
      "                        nama fakultas  nilai_mat  nilai_kim  nilai_fis\n",
      "49      Alief Rizky Ramadhan    SITHS      84.59      42.44      40.48\n",
      "50      Arief Syakur Sutedjo     FTTM      84.40      61.21      73.91\n",
      "51         Fayi Raihan Saleh    FMIPA      60.62      32.57      42.34\n",
      "52          Erna Kristiawati      FTI      67.48      46.78      52.30\n",
      "53                    Albert    SAPPK      70.27      50.10      54.01\n",
      "54  M Jazztyan Indra Pradana     STEI      53.40      43.06      60.30\n",
      "55      Moch Ginanjar Busiri    FMIPA      74.29      38.44      49.15\n",
      "56              Aisya Tamara     FITB      71.49      35.86      37.41\n",
      "57        Tyas Arum Widayati    SAPPK      68.57      37.02      53.25\n",
      "58                Arif Saleh      FTI     100.00      59.79      55.33\n",
      "59     Windy Diwita Nisaekti      FTI      67.15      57.72      54.24\n"
     ]
    }
   ],
   "source": [
    "data_50_60 = data.iloc[49:60]\n",
    "print(data_50_60)"
   ]
  },
  {
   "cell_type": "markdown",
   "metadata": {},
   "source": [
    "# 4.1. HITUNG BANYAKNYA MAHASISWA DI TIAP FAKULTAS"
   ]
  },
  {
   "cell_type": "code",
   "execution_count": 15,
   "metadata": {},
   "outputs": [
    {
     "name": "stdout",
     "output_type": "stream",
     "text": [
      "fakultas\n",
      "FTI      834\n",
      "STEI     777\n",
      "FTSL     660\n",
      "FMIPA    627\n",
      "FTTM     579\n",
      "FTMD     480\n",
      "FITB     403\n",
      "SAPPK    315\n",
      "SITHR    282\n",
      "SITHS    178\n",
      "Name: count, dtype: int64\n"
     ]
    }
   ],
   "source": [
    "data = pd.read_csv('C:/MATERI SEMESTER 3/Pemrograman Lanjut/H05.csv')\n",
    "print(data['fakultas'].value_counts())"
   ]
  },
  {
   "cell_type": "markdown",
   "metadata": {},
   "source": [
    "# 5.1. Hitung nilai korelasi antara nilai fisika dan kimia. Tentukan apakah berkorelasi lurus, terbalik, atau tidak berkorelasi."
   ]
  },
  {
   "cell_type": "code",
   "execution_count": 18,
   "metadata": {},
   "outputs": [
    {
     "name": "stdout",
     "output_type": "stream",
     "text": [
      "0.7988187423880274\n"
     ]
    }
   ],
   "source": [
    "correlation = df['nilai_fis'].corr(df['nilai_kim'])\n",
    "print(correlation)"
   ]
  },
  {
   "cell_type": "code",
   "execution_count": 17,
   "metadata": {},
   "outputs": [
    {
     "name": "stdout",
     "output_type": "stream",
     "text": [
      "Nilai korelasi antara Fisika dan Kimia: 0.7988187423880274\n",
      "Korelasi kuat dan lurus.\n"
     ]
    }
   ],
   "source": [
    "korelasi = data['nilai_fis'].corr(data['nilai_kim'])\n",
    "\n",
    "print(\"Nilai korelasi antara Fisika dan Kimia:\", korelasi)\n",
    "if korelasi > 0.7:\n",
    "    print(\"Korelasi kuat dan lurus.\")\n",
    "elif korelasi < -0.7:\n",
    "    print(\"Korelasi kuat dan terbalik.\")\n",
    "elif -0.7 <= korelasi <= 0.7:\n",
    "    print(\"Tidak ada korelasi yang signifikan.\")"
   ]
  },
  {
   "cell_type": "markdown",
   "metadata": {},
   "source": [
    "# PROBLEM 2"
   ]
  },
  {
   "cell_type": "markdown",
   "metadata": {},
   "source": [
    "# 1.2. TAMPILKAN NILAI MATEMATIKA, FISIKA, DAN KIMIA MILIK TUAN LEO"
   ]
  },
  {
   "cell_type": "code",
   "execution_count": 4,
   "metadata": {},
   "outputs": [],
   "source": [
    "import pandas as pd"
   ]
  },
  {
   "cell_type": "code",
   "execution_count": 5,
   "metadata": {},
   "outputs": [
    {
     "data": {
      "text/html": [
       "<div>\n",
       "<style scoped>\n",
       "    .dataframe tbody tr th:only-of-type {\n",
       "        vertical-align: middle;\n",
       "    }\n",
       "\n",
       "    .dataframe tbody tr th {\n",
       "        vertical-align: top;\n",
       "    }\n",
       "\n",
       "    .dataframe thead th {\n",
       "        text-align: right;\n",
       "    }\n",
       "</style>\n",
       "<table border=\"1\" class=\"dataframe\">\n",
       "  <thead>\n",
       "    <tr style=\"text-align: right;\">\n",
       "      <th></th>\n",
       "      <th>nama</th>\n",
       "      <th>fakultas</th>\n",
       "      <th>nilai_mat</th>\n",
       "      <th>nilai_kim</th>\n",
       "      <th>nilai_fis</th>\n",
       "    </tr>\n",
       "  </thead>\n",
       "  <tbody>\n",
       "    <tr>\n",
       "      <th>0</th>\n",
       "      <td>Farhan Fathur Rahman</td>\n",
       "      <td>FMIPA</td>\n",
       "      <td>57.21</td>\n",
       "      <td>34.14</td>\n",
       "      <td>38.93</td>\n",
       "    </tr>\n",
       "    <tr>\n",
       "      <th>1</th>\n",
       "      <td>Steven Margono</td>\n",
       "      <td>FMIPA</td>\n",
       "      <td>67.43</td>\n",
       "      <td>51.50</td>\n",
       "      <td>57.20</td>\n",
       "    </tr>\n",
       "    <tr>\n",
       "      <th>2</th>\n",
       "      <td>Ryan Sentosa</td>\n",
       "      <td>SAPPK</td>\n",
       "      <td>90.62</td>\n",
       "      <td>37.38</td>\n",
       "      <td>40.73</td>\n",
       "    </tr>\n",
       "    <tr>\n",
       "      <th>3</th>\n",
       "      <td>Muhajah Babny Muslim</td>\n",
       "      <td>FMIPA</td>\n",
       "      <td>72.31</td>\n",
       "      <td>38.80</td>\n",
       "      <td>44.79</td>\n",
       "    </tr>\n",
       "    <tr>\n",
       "      <th>4</th>\n",
       "      <td>Alvin Natawiguna</td>\n",
       "      <td>FTSL</td>\n",
       "      <td>65.45</td>\n",
       "      <td>57.67</td>\n",
       "      <td>56.39</td>\n",
       "    </tr>\n",
       "    <tr>\n",
       "      <th>...</th>\n",
       "      <td>...</td>\n",
       "      <td>...</td>\n",
       "      <td>...</td>\n",
       "      <td>...</td>\n",
       "      <td>...</td>\n",
       "    </tr>\n",
       "    <tr>\n",
       "      <th>5130</th>\n",
       "      <td>Khoirrashif</td>\n",
       "      <td>SITHR</td>\n",
       "      <td>66.14</td>\n",
       "      <td>46.82</td>\n",
       "      <td>56.74</td>\n",
       "    </tr>\n",
       "    <tr>\n",
       "      <th>5131</th>\n",
       "      <td>Jefri Hendri Adriano</td>\n",
       "      <td>FTSL</td>\n",
       "      <td>53.68</td>\n",
       "      <td>34.74</td>\n",
       "      <td>33.76</td>\n",
       "    </tr>\n",
       "    <tr>\n",
       "      <th>5132</th>\n",
       "      <td>Iki Hidayat</td>\n",
       "      <td>FITB</td>\n",
       "      <td>69.63</td>\n",
       "      <td>35.04</td>\n",
       "      <td>37.65</td>\n",
       "    </tr>\n",
       "    <tr>\n",
       "      <th>5133</th>\n",
       "      <td>Muhammad Nashir Sitompul</td>\n",
       "      <td>FTI</td>\n",
       "      <td>79.69</td>\n",
       "      <td>39.06</td>\n",
       "      <td>50.17</td>\n",
       "    </tr>\n",
       "    <tr>\n",
       "      <th>5134</th>\n",
       "      <td>Billy Richardo Sagala</td>\n",
       "      <td>STEI</td>\n",
       "      <td>68.68</td>\n",
       "      <td>51.23</td>\n",
       "      <td>66.18</td>\n",
       "    </tr>\n",
       "  </tbody>\n",
       "</table>\n",
       "<p>5135 rows × 5 columns</p>\n",
       "</div>"
      ],
      "text/plain": [
       "                          nama fakultas  nilai_mat  nilai_kim  nilai_fis\n",
       "0         Farhan Fathur Rahman    FMIPA      57.21      34.14      38.93\n",
       "1               Steven Margono    FMIPA      67.43      51.50      57.20\n",
       "2                 Ryan Sentosa    SAPPK      90.62      37.38      40.73\n",
       "3         Muhajah Babny Muslim    FMIPA      72.31      38.80      44.79\n",
       "4             Alvin Natawiguna     FTSL      65.45      57.67      56.39\n",
       "...                        ...      ...        ...        ...        ...\n",
       "5130               Khoirrashif    SITHR      66.14      46.82      56.74\n",
       "5131      Jefri Hendri Adriano     FTSL      53.68      34.74      33.76\n",
       "5132               Iki Hidayat     FITB      69.63      35.04      37.65\n",
       "5133  Muhammad Nashir Sitompul      FTI      79.69      39.06      50.17\n",
       "5134     Billy Richardo Sagala     STEI      68.68      51.23      66.18\n",
       "\n",
       "[5135 rows x 5 columns]"
      ]
     },
     "execution_count": 5,
     "metadata": {},
     "output_type": "execute_result"
    }
   ],
   "source": [
    "df = pd.read_csv('C:/MATERI SEMESTER 3/Pemrograman Lanjut/H05.csv')\n",
    "df"
   ]
  },
  {
   "cell_type": "code",
   "execution_count": 6,
   "metadata": {},
   "outputs": [
    {
     "name": "stdout",
     "output_type": "stream",
     "text": [
      "\n",
      "Nilai Leonardus Kevin:\n",
      "     nilai_mat  nilai_kim  nilai_fis\n",
      "895      63.53      19.67      26.15\n"
     ]
    }
   ],
   "source": [
    "data = pd.read_csv('C:/MATERI SEMESTER 3/Pemrograman Lanjut/H05.csv')\n",
    "leo = data[data['nama'] == \"Leonardus Kevin\"]\n",
    "if not leo.empty:\n",
    "    print(\"\\nNilai Leonardus Kevin:\")\n",
    "    print(leo[['nilai_mat', 'nilai_kim', 'nilai_fis']])\n",
    "else:\n",
    "    print(\"\\nLeonardus Kevin tidak ditemukan.\")"
   ]
  },
  {
   "cell_type": "markdown",
   "metadata": {},
   "source": [
    "# 2.2. CARI MAHASISWA DENGAN NILAI FISIKA TERTINGGI (JIKA LEBIH DARI SATU, TAMPILKAN SEMUA)"
   ]
  },
  {
   "cell_type": "code",
   "execution_count": 7,
   "metadata": {},
   "outputs": [
    {
     "name": "stdout",
     "output_type": "stream",
     "text": [
      "Mahasiswa dengan nilai Fisika tertinggi:\n",
      "                         nama  nilai_fis\n",
      "1936  Yuniar Fazriani Rusmana      92.57\n"
     ]
    }
   ],
   "source": [
    "data = pd.read_csv('C:/MATERI SEMESTER 3/Pemrograman Lanjut/H05.csv')\n",
    "\n",
    "if 'nilai_fis' not in data.columns:\n",
    "    print(\"Kolom 'nilai_fis' tidak ditemukan dalam DataFrame.\")\n",
    "else:\n",
    "   \n",
    "    nilai_fisika_tertinggi = data['nilai_fis'].max()\n",
    "    \n",
    "    mahasiswa_tertinggi = data[data['nilai_fis'] == nilai_fisika_tertinggi]\n",
    "    \n",
    "    if not mahasiswa_tertinggi.empty:\n",
    "        print(\"Mahasiswa dengan nilai Fisika tertinggi:\")\n",
    "        print(mahasiswa_tertinggi[['nama', 'nilai_fis']])  # Gantilah 'nama' dengan nama kolom yang sesuai\n",
    "    else:\n",
    "        print(\"Tidak ada mahasiswa yang ditemukan.\")"
   ]
  },
  {
   "cell_type": "markdown",
   "metadata": {},
   "source": [
    "# 3.2. TAMPILKAN 10 NILAI MAHASISWA DENGAN NILAI KIMIA TERTINGGI"
   ]
  },
  {
   "cell_type": "code",
   "execution_count": 6,
   "metadata": {},
   "outputs": [
    {
     "name": "stdout",
     "output_type": "stream",
     "text": [
      "10 Mahasiswa dengan nilai Kimia tertinggi:\n",
      "                          nama  nilai_kim\n",
      "2554      Faathir Reza Avicena      81.50\n",
      "2779      Dinda A A Z Mundakir      81.34\n",
      "3544        Tammya Ayu Purnomo      81.20\n",
      "4934    Alyssa Nadhira Windari      78.83\n",
      "1137          Izni Nur Ibrahim      78.46\n",
      "2262      Rinaldi Oky Setiawan      77.44\n",
      "4070      Ias Azhari Rezkyarno      76.90\n",
      "2945           Klara Petra T T      76.61\n",
      "1788  Naudy Germanimo Laksmana      76.38\n",
      "1310       Mardliyahtur Rohmah      76.36\n"
     ]
    }
   ],
   "source": [
    "data = pd.read_csv('C:/MATERI SEMESTER 3/Pemrograman Lanjut/H05.csv')\n",
    "\n",
    "top_10_kimia = data.nlargest(10, 'nilai_kim')  \n",
    "\n",
    "print(\"10 Mahasiswa dengan nilai Kimia tertinggi:\")\n",
    "print(top_10_kimia[['nama', 'nilai_kim']])  "
   ]
  },
  {
   "cell_type": "markdown",
   "metadata": {},
   "source": [
    "# 4.2. HITUNG BANYAKNYA NILAI MATEMATIKA DI BAWAH 50"
   ]
  },
  {
   "cell_type": "code",
   "execution_count": 7,
   "metadata": {},
   "outputs": [
    {
     "name": "stdout",
     "output_type": "stream",
     "text": [
      "Banyaknya nilai Matematika di bawah 50: 329\n"
     ]
    }
   ],
   "source": [
    "jumlah_bawah_50 = (data['nilai_mat'] < 50).sum()\n",
    "\n",
    "print(f\"Banyaknya nilai Matematika di bawah 50: {jumlah_bawah_50}\")"
   ]
  },
  {
   "cell_type": "markdown",
   "metadata": {},
   "source": [
    "# 5.2. HITUNG BANYAKNYA MAHASISWA DI FMIPA"
   ]
  },
  {
   "cell_type": "code",
   "execution_count": 8,
   "metadata": {},
   "outputs": [
    {
     "name": "stdout",
     "output_type": "stream",
     "text": [
      "Banyaknya mahasiswa di FMIPA: 627\n"
     ]
    }
   ],
   "source": [
    "jumlah_fmipa = (data['fakultas'] == 'FMIPA').sum()\n",
    "\n",
    "print(f\"Banyaknya mahasiswa di FMIPA: {jumlah_fmipa}\")"
   ]
  }
 ],
 "metadata": {
  "kernelspec": {
   "display_name": "Python 3",
   "language": "python",
   "name": "python3"
  },
  "language_info": {
   "codemirror_mode": {
    "name": "ipython",
    "version": 3
   },
   "file_extension": ".py",
   "mimetype": "text/x-python",
   "name": "python",
   "nbconvert_exporter": "python",
   "pygments_lexer": "ipython3",
   "version": "3.12.2"
  }
 },
 "nbformat": 4,
 "nbformat_minor": 2
}
