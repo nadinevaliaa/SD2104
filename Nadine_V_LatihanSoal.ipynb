{
  "nbformat": 4,
  "nbformat_minor": 0,
  "metadata": {
    "colab": {
      "provenance": [],
      "authorship_tag": "ABX9TyOciA4KbwARpV01tu2Eeozw",
      "include_colab_link": true
    },
    "kernelspec": {
      "name": "python3",
      "display_name": "Python 3"
    },
    "language_info": {
      "name": "python"
    }
  },
  "cells": [
    {
      "cell_type": "markdown",
      "metadata": {
        "id": "view-in-github",
        "colab_type": "text"
      },
      "source": [
        "<a href=\"https://colab.research.google.com/github/nadinevaliaa/SD2104/blob/main/Nadine_V_LatihanSoal.ipynb\" target=\"_parent\"><img src=\"https://colab.research.google.com/assets/colab-badge.svg\" alt=\"Open In Colab\"/></a>"
      ]
    },
    {
      "cell_type": "markdown",
      "source": [
        "No 1"
      ],
      "metadata": {
        "id": "_n7KgJ-SQyED"
      }
    },
    {
      "cell_type": "code",
      "source": [
        "berat_badan = int(input(\"masukkan berat badan atlit:\"))\n",
        "if berat_badan < 45:\n",
        " print(\"Tidak memenuhi kualifikasi\")\n",
        "elif berat_badan <= 50:\n",
        "  print(\"Kelas A\")\n",
        "elif berat_badan <= 55:\n",
        "  print(\"Kelas B\")\n",
        "elif berat_badan <= 60:\n",
        "  print(\"Kelas C\")\n",
        "elif berat_badan <= 65:\n",
        "  print(\"Kelas D\")\n",
        "elif berat_badan <= 70:\n",
        "  print(\"Kelas E\")\n",
        "else :\n",
        "  print(\"Kelas F\")\n"
      ],
      "metadata": {
        "colab": {
          "base_uri": "https://localhost:8080/"
        },
        "id": "8XeSoihaQ6Lh",
        "outputId": "d1e1d4fc-27b0-4394-86f4-391151398c47"
      },
      "execution_count": 9,
      "outputs": [
        {
          "output_type": "stream",
          "name": "stdout",
          "text": [
            "masukkan berat badan atlit:45\n",
            "Kelas A\n"
          ]
        }
      ]
    },
    {
      "cell_type": "markdown",
      "source": [
        "No 2"
      ],
      "metadata": {
        "id": "Rpfnt7XtT1mk"
      }
    },
    {
      "cell_type": "code",
      "source": [
        "angka = int(input(\"masukkan bilangan bulat ratusan (3 digit): \"))\n",
        "ratusan = angka // 100\n",
        "puluhan = (angka % 100) // 10\n",
        "satuan = angka % 10\n",
        "\n",
        "hasil = ratusan ** 3 + puluhan ** 3 + satuan ** 3\n",
        "if hasil == angka:\n",
        "  print(\"angka armstrong\")\n",
        "else :\n",
        "  print(\"bukan angka armstrong\")"
      ],
      "metadata": {
        "colab": {
          "base_uri": "https://localhost:8080/"
        },
        "id": "7lbBAcp7T4uK",
        "outputId": "61b02a6d-ff36-4b91-ce54-967582b7c83f"
      },
      "execution_count": 12,
      "outputs": [
        {
          "output_type": "stream",
          "name": "stdout",
          "text": [
            "masukkan bilangan bulat ratusan (3 digit): 371\n",
            "angka armstrong\n"
          ]
        }
      ]
    },
    {
      "cell_type": "markdown",
      "source": [
        "No 3"
      ],
      "metadata": {
        "id": "JLTjKfnVXFnT"
      }
    },
    {
      "cell_type": "code",
      "source": [
        "pi = 3.1416\n",
        "jari_jari = int(input(\"masukkan jari jari bola: \"))\n",
        "volume_bola = 4/3 * pi * jari_jari ** 3\n",
        "print(\"volume bola adalah:\", volume_bola)"
      ],
      "metadata": {
        "colab": {
          "base_uri": "https://localhost:8080/"
        },
        "id": "OYnAya7pXImg",
        "outputId": "a9adcce5-6d47-47d6-b840-5a8bc19dcf46"
      },
      "execution_count": 16,
      "outputs": [
        {
          "output_type": "stream",
          "name": "stdout",
          "text": [
            "masukkan jari jari bola: 15\n",
            "volume bola adalah: 14137.199999999999\n"
          ]
        }
      ]
    },
    {
      "cell_type": "markdown",
      "source": [
        "No 4"
      ],
      "metadata": {
        "id": "SyXgRYQlZj7f"
      }
    },
    {
      "cell_type": "code",
      "source": [
        "jumlah_siswa = 0\n",
        "total_tinggi = 0\n",
        "tinggi_badan = int(input(\"masukkan tinggi badan siswa: \"))\n",
        "\n",
        "if 100 <= tinggi_badan <= 150:\n",
        "  jumlah_siswa += 1\n",
        "  total_tinggi += tinggi_badan\n",
        "else:\n",
        " print(\"tinggi badan tidak valid. masukkan nilai antara 100-200 cm\")\n",
        "if jumlah_siswa > 0:\n",
        "    rata_rata = total_tinggi / jumlah_siswa\n",
        "    print(\"rata-rata tinggi badan siswa:\", rata_rata, \"cm\")\n",
        "else:\n",
        "    print(\"tidak ada data siswa yang valid\")"
      ],
      "metadata": {
        "colab": {
          "base_uri": "https://localhost:8080/"
        },
        "id": "cNC8xIGAgGh8",
        "outputId": "235fa88c-ccfb-4234-e32f-b9fa97eff809"
      },
      "execution_count": 29,
      "outputs": [
        {
          "output_type": "stream",
          "name": "stdout",
          "text": [
            "masukkan tinggi badan siswa: 115\n",
            "rata-rata tinggi badan siswa: 115.0 cm\n"
          ]
        }
      ]
    },
    {
      "cell_type": "markdown",
      "source": [
        "No 5"
      ],
      "metadata": {
        "id": "WyvdakqKaF64"
      }
    },
    {
      "cell_type": "code",
      "source": [
        "N = int(input(\"Masukkan jumlah mahasiswa: \"))\n",
        "\n",
        "data_mahasiswa = []\n",
        "\n",
        "for i in range(N):\n",
        "  nama = input(\"Masukkan nama mahasiswa: \")\n",
        "  praktikum = int(input(\"Masukkan nilai praktikum: \"))\n",
        "  uts = int(input(\"Masukkan nilai UTS: \"))\n",
        "  uas = int(input(\"Masukkan nilai UAS: \"))\n",
        "\n",
        "  nilai_akhir = 0.2 * praktikum + 0.4 * uts + 0.4 * uas\n",
        "\n",
        "  if nilai_akhir >= 85:\n",
        "    indeks = \"A\"\n",
        "  elif nilai_akhir >= 75:\n",
        "    indeks = \"AB\"\n",
        "  elif nilai_akhir >= 70:\n",
        "    indeks = \"B\"\n",
        "  elif nilai_akhir >= 60:\n",
        "    indeks = \"BC\"\n",
        "  elif nilai_akhir >= 50:\n",
        "    indeks = \"C\"\n",
        "  elif nilai_akhir >= 40:\n",
        "    indeks = \"D\"\n",
        "  else:\n",
        "    indeks = \"E\"\n",
        "\n",
        "  data_mahasiswa.append([nama, praktikum, uts, uas, nilai_akhir, indeks])\n",
        "\n",
        "print(\"----------------------------------------------------\")\n",
        "print(\"Nama | Praktikum | UTS | UAS | Nilai Akhir | Indeks\")\n",
        "print(\"----------------------------------------------------\")\n",
        "\n",
        "for mahasiswa in data_mahasiswa:\n",
        "  print(f\"{mahasiswa[0]} | {mahasiswa[1]} | {mahasiswa[2]} | {mahasiswa[3]} | {mahasiswa[4]} | {mahasiswa[5]}\")"
      ],
      "metadata": {
        "colab": {
          "base_uri": "https://localhost:8080/"
        },
        "id": "hduFUygufQ8h",
        "outputId": "3209cd20-24b6-42a3-f0ba-5c3f19705f4e"
      },
      "execution_count": 25,
      "outputs": [
        {
          "output_type": "stream",
          "name": "stdout",
          "text": [
            "Masukkan jumlah mahasiswa: 3\n",
            "Masukkan nama mahasiswa: san\n",
            "Masukkan nilai praktikum: 100\n",
            "Masukkan nilai UTS: 100\n",
            "Masukkan nilai UAS: 100\n",
            "Masukkan nama mahasiswa: mingi\n",
            "Masukkan nilai praktikum: 100\n",
            "Masukkan nilai UTS: 90\n",
            "Masukkan nilai UAS: 90\n",
            "Masukkan nama mahasiswa: yunho\n",
            "Masukkan nilai praktikum: 100\n",
            "Masukkan nilai UTS: 90\n",
            "Masukkan nilai UAS: 80\n",
            "----------------------------------------------------\n",
            "Nama | Praktikum | UTS | UAS | Nilai Akhir | Indeks\n",
            "----------------------------------------------------\n",
            "san | 100 | 100 | 100 | 100.0 | A\n",
            "mingi | 100 | 90 | 90 | 92.0 | A\n",
            "yunho | 100 | 90 | 80 | 88.0 | A\n"
          ]
        }
      ]
    }
  ]
}