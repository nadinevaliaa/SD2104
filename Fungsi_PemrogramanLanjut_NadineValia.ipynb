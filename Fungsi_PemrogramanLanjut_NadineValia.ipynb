{
  "nbformat": 4,
  "nbformat_minor": 0,
  "metadata": {
    "colab": {
      "provenance": [],
      "authorship_tag": "ABX9TyP9gTUfnmT26PYX9NDOfEXG",
      "include_colab_link": true
    },
    "kernelspec": {
      "name": "python3",
      "display_name": "Python 3"
    },
    "language_info": {
      "name": "python"
    }
  },
  "cells": [
    {
      "cell_type": "markdown",
      "metadata": {
        "id": "view-in-github",
        "colab_type": "text"
      },
      "source": [
        "<a href=\"https://colab.research.google.com/github/nadinevaliaa/SD2104/blob/main/Fungsi_PemrogramanLanjut_NadineValia.ipynb\" target=\"_parent\"><img src=\"https://colab.research.google.com/assets/colab-badge.svg\" alt=\"Open In Colab\"/></a>"
      ]
    },
    {
      "cell_type": "markdown",
      "source": [
        "MODUL 4\n",
        "\n",
        "MATERI: **FUNGSI**"
      ],
      "metadata": {
        "id": "KWXExhNhx50I"
      }
    },
    {
      "cell_type": "markdown",
      "source": [
        "Apa itu **fungsi**?\n",
        "\n",
        "Fungsi adalah bagian dari program yang mampu mengerjakan tugas aatau operasi tertentu diluar program utama. Fungsi akan mengembalikan nilai sesuai algoritma yang diberikan."
      ],
      "metadata": {
        "id": "EupzornWyAiv"
      }
    },
    {
      "cell_type": "markdown",
      "source": [
        "**Prosedur**\n",
        "\n",
        "Prosedur mirip dengan fungsi, tetapi tidak memiliki nilai kembalian (return).  \n"
      ],
      "metadata": {
        "id": "YgNJTt2Ly1ef"
      }
    },
    {
      "cell_type": "code",
      "execution_count": null,
      "metadata": {
        "colab": {
          "base_uri": "https://localhost:8080/"
        },
        "id": "LawcdUKUxJ3Z",
        "outputId": "2e1a4ba0-43b8-4089-887d-16083eb7893d"
      },
      "outputs": [
        {
          "output_type": "stream",
          "name": "stdout",
          "text": [
            "5\n",
            "25\n"
          ]
        }
      ],
      "source": [
        "def kuadrat(x):\n",
        "  x2 = x * x\n",
        "  return x2\n",
        "\n",
        "n = int(input())\n",
        "n2 = kuadrat(n)\n",
        "print(n2)"
      ]
    },
    {
      "cell_type": "markdown",
      "source": [
        "**TUGAS MODUL 4:**"
      ],
      "metadata": {
        "id": "B7gqXBZP1KlP"
      }
    },
    {
      "cell_type": "markdown",
      "source": [
        "**A. Fungsi Kuadrat**"
      ],
      "metadata": {
        "id": "fFUhQiDI2Gg4"
      }
    },
    {
      "cell_type": "code",
      "source": [
        "# Fungsi untuk menghitung f(x)\n",
        "def hitung_fungsi(x):\n",
        "    return x**2 - 2*x + 5\n",
        "\n",
        "# Program utama\n",
        "def main():\n",
        "    try:\n",
        "        # Input nilai A dan B dari pengguna\n",
        "        A = int(input(\"Masukkan nilai A: \"))\n",
        "        B = int(input(\"Masukkan nilai B: \"))\n",
        "\n",
        "        # Validasi input\n",
        "        if A > B:\n",
        "            print(\"Nilai A harus lebih kecil atau sama dengan B.\")\n",
        "            return\n",
        "\n",
        "        # Perulangan dari A sampai B (inklusif)\n",
        "        for x in range(A, B + 1):\n",
        "            hasil = hitung_fungsi(x)\n",
        "            print(f\"f({x}) = {hasil}\")\n",
        "\n",
        "    except ValueError:\n",
        "        print(\"Input harus berupa bilangan bulat.\")\n",
        "\n",
        "# Menjalankan program\n",
        "if __name__ == \"__main__\":\n",
        "    main()"
      ],
      "metadata": {
        "colab": {
          "base_uri": "https://localhost:8080/"
        },
        "id": "XEnwe7xB1J_A",
        "outputId": "5f6cd4fe-2497-435b-ac70-75e56afe72c8"
      },
      "execution_count": null,
      "outputs": [
        {
          "output_type": "stream",
          "name": "stdout",
          "text": [
            "Masukkan nilai A: 3\n",
            "Masukkan nilai B: 6\n",
            "f(3) = 8\n",
            "f(4) = 13\n",
            "f(5) = 20\n",
            "f(6) = 29\n"
          ]
        }
      ]
    },
    {
      "cell_type": "markdown",
      "source": [
        "**B. Validasi Sandi**"
      ],
      "metadata": {
        "id": "QTMCzGgM2K4_"
      }
    },
    {
      "cell_type": "code",
      "source": [
        "def validasi_sandi(sandi):\n",
        "    # Memeriksa panjang sandi\n",
        "    if len(sandi) < 8:\n",
        "        return False, \"Kata sandi harus minimal 8 karakter.\"\n",
        "\n",
        "    # Memeriksa apakah ada huruf besar\n",
        "    if not any(char.isupper() for char in sandi):\n",
        "        return False, \"Kata sandi harus mengandung minimal satu huruf besar.\"\n",
        "\n",
        "    # Memeriksa apakah ada angka\n",
        "    if not any(char.isdigit() for char in sandi):\n",
        "        return False, \"Kata sandi harus mengandung minimal satu angka.\"\n",
        "\n",
        "    # Jika semua syarat terpenuhi\n",
        "    return True, \"Kata sandi valid.\"\n",
        "\n",
        "# Contoh penggunaan\n",
        "sandi_input = input(\"Masukkan kata sandi: \")\n",
        "valid, alasan = validasi_sandi(sandi_input)\n",
        "\n",
        "if valid:\n",
        "    print(\"Kata sandi valid.\")\n",
        "else:\n",
        "    print(\"Kata sandi tidak valid:\", alasan)"
      ],
      "metadata": {
        "colab": {
          "base_uri": "https://localhost:8080/"
        },
        "id": "G2T44K7w2cxY",
        "outputId": "4a1f8fcd-da86-4d23-d860-04d3fb592d12"
      },
      "execution_count": 2,
      "outputs": [
        {
          "output_type": "stream",
          "name": "stdout",
          "text": [
            "Masukkan kata sandi: SistemDinamikMenyenangkan123\n",
            "Kata sandi valid.\n"
          ]
        }
      ]
    },
    {
      "cell_type": "markdown",
      "source": [
        "**C. Determinan Matriks**"
      ],
      "metadata": {
        "id": "9I0ggc1T20My"
      }
    },
    {
      "cell_type": "code",
      "source": [
        "def determinant_2x2(matrix):\n",
        "\n",
        "    if len(matrix) != 2 or len(matrix[0]) != 2 or len(matrix[1]) != 2:\n",
        "        return \"Matriks harus berukuran 2x2\"\n",
        "\n",
        "    a = matrix[0][0]\n",
        "    b = matrix[0][1]\n",
        "    c = matrix[1][0]\n",
        "    d = matrix[1][1]\n",
        "    determinan = (a * d) - (b * c)\n",
        "\n",
        "    return determinan\n",
        "\n",
        "# Contoh Penggunaan\n",
        "A = [[2, 3], [1, 4]]\n",
        "hasil = determinant_2x2(A)\n",
        "print(\"Determinan =\", hasil)"
      ],
      "metadata": {
        "colab": {
          "base_uri": "https://localhost:8080/"
        },
        "id": "JErA22L42l34",
        "outputId": "bf4bec35-a9cd-40a9-ae26-f5d2feb71895"
      },
      "execution_count": null,
      "outputs": [
        {
          "output_type": "stream",
          "name": "stdout",
          "text": [
            "Determinan = 5\n"
          ]
        }
      ]
    }
  ]
}