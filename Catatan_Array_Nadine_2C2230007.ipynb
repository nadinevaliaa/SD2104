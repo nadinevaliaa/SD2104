{
  "nbformat": 4,
  "nbformat_minor": 0,
  "metadata": {
    "colab": {
      "provenance": [],
      "include_colab_link": true
    },
    "kernelspec": {
      "name": "python3",
      "display_name": "Python 3"
    },
    "language_info": {
      "name": "python"
    }
  },
  "cells": [
    {
      "cell_type": "markdown",
      "metadata": {
        "id": "view-in-github",
        "colab_type": "text"
      },
      "source": [
        "<a href=\"https://colab.research.google.com/github/nadinevaliaa/SD2104/blob/main/Catatan_Array_Nadine_2C2230007.ipynb\" target=\"_parent\"><img src=\"https://colab.research.google.com/assets/colab-badge.svg\" alt=\"Open In Colab\"/></a>"
      ]
    },
    {
      "cell_type": "markdown",
      "source": [
        "#**🖥️👩🏻‍💻PRAKTIKUM PEMROGRAMAN LANJUT🔥**\n",
        "##**Pertemuan (3) ARRAY - Senin, 28 Oktober 2024**\n",
        "\n",
        "👤 Nama: Nadine Valia Azzahra / NRP: 2C2230007 / Kelas: III/A Sains Data\n",
        "\n",
        "💬Deskripsi Pembahasan Materi Array:\n",
        "1. ARRAY\n",
        "\n",
        "\n",
        "**1.1. Definisi Array**\n",
        "\n",
        "Array adalah variabel dengan satu buah nama, tetapi mengandung banyak nilai. Akses nilainilainya dilakukan dengan indeks\n",
        "\n",
        "\n",
        "**1.2.Deklarasi Array**\n",
        "\n",
        "Contoh deklarasi array:\n",
        "\n",
        "x = [0 for i in range(n)] membuat array berukuran n dengan isi 0.\n",
        "\n",
        "x = [\"*\"for i in range(100)] membuat array berukuran 100 dengan isi karakter \"*\".\n",
        "\n",
        "**1.3. Array dan Variabel**\n",
        "\n",
        "Suatu array dapat kita anggap sebagai variabel, sehingga segala jenis operasi pada variabel juga\n",
        "berlaku pada array\n",
        "\n",
        "**1.4.String**\n",
        "\n",
        "String dapat dianggap sebagai array of\n",
        "character, namun tipe data string memiliki karakteristik yang berbeda dengan array of character yaitu\n",
        "string merupakan tipe data immutable. Artinya, string tidak dapat diubah nilainya setelah\n",
        "dideklarasikan.\n",
        "\n",
        "\n"
      ],
      "metadata": {
        "id": "_bN6_LxQCJZT"
      }
    },
    {
      "cell_type": "markdown",
      "source": [
        "#🤸🏻‍♀️ EKSPLORASI PRIBADI DI KELAS ✨"
      ],
      "metadata": {
        "id": "N0U2Qjks8P9F"
      }
    },
    {
      "cell_type": "markdown",
      "source": [
        "1. SUSUNAN (LIST)"
      ],
      "metadata": {
        "id": "UfvdHTf2UoYe"
      }
    },
    {
      "cell_type": "code",
      "source": [
        "cars = [\"Ford\", \"Volvo\", \"BMW\"]\n",
        "\n",
        "print(cars)"
      ],
      "metadata": {
        "colab": {
          "base_uri": "https://localhost:8080/"
        },
        "id": "lO0El6HEP1fY",
        "outputId": "c55ad0ea-80b6-4ac1-9886-9f78870bbafc"
      },
      "execution_count": null,
      "outputs": [
        {
          "output_type": "stream",
          "name": "stdout",
          "text": [
            "['Ford', 'Volvo', 'BMW']\n"
          ]
        }
      ]
    },
    {
      "cell_type": "markdown",
      "source": [
        "- Interpretasi Kode :\n",
        "\n",
        "Deklarasi variabel dengan nama 'cars', nilainya di tetapkan sebagai sebuah list yang berisi tiga string: ford, volvo, bmw.\n",
        "\n",
        "fungsi print akan mencetak isi list 'cars'\n",
        "\n",
        "- Interpretasi Output :\n",
        "\n",
        "Program telah berhasil mengeluarkan isi list 'cars' ke layar, yaitu ['Ford', 'Volvo', 'BMW']. Dengan demikian, kita dapat melihat bahwa semua elemen list 'Ford', 'Volvo', dan 'BMW' telah ditejermahkan secara benar"
      ],
      "metadata": {
        "id": "f1J9LJyv9-YC"
      }
    },
    {
      "cell_type": "markdown",
      "source": [
        "2. MENGAKSES ELEMEN ARRAY"
      ],
      "metadata": {
        "id": "gha83n7fTpou"
      }
    },
    {
      "cell_type": "code",
      "source": [
        "\"\"\"contoh 1:\n",
        "Dapatkan nilai item array pertama:\"\"\"\n",
        "\n",
        "cars = [\"Ford\", \"Volvo\", \"BMW\"]\n",
        "x = cars[0]\n",
        "print(x)"
      ],
      "metadata": {
        "colab": {
          "base_uri": "https://localhost:8080/"
        },
        "id": "-eSkc2KYL_rl",
        "outputId": "15d00261-01c3-41cf-9042-d742874b04ef"
      },
      "execution_count": 1,
      "outputs": [
        {
          "output_type": "stream",
          "name": "stdout",
          "text": [
            "Ford\n"
          ]
        }
      ]
    },
    {
      "cell_type": "markdown",
      "source": [
        "- Interpretasi Kode :\n",
        "\n",
        "Mendefinisikan sebuah daftar bernama cars yang berisi tiga string: \"Ford\", \"Volvo\", dan \"BMW\". Setiap elemen dalam daftar ini diindeks mulai dari 0.\n",
        "\n",
        "Kemudian, mengambil elemen pertama dari daftar cars, yaitu \"Ford\", dan menyimpannya dalam variabel x. Karena indeks dimulai dari 0, cars merujuk pada elemen pertama.\n",
        "\n",
        "Cetak nilai yang ada di dalam variabel x ke layar. Nilai yang dicetak adalah \"Ford\".\n",
        "\n",
        "- Interpretasi Output :\n",
        "\n",
        "Ketika program dijalankan, output yang dihasilkan adalah:\n",
        "\n",
        "\n",
        "Ford\n",
        "\n",
        "\n",
        "Output ini menunjukkan bahwa program berhasil mengambil dan mencetak nilai dari elemen pertama dalam daftar cars. Dengan demikian, program ini berfungsi dengan baik untuk menunjukkan cara mengakses elemen dalam daftar menggunakan indeks.\n"
      ],
      "metadata": {
        "id": "pp9Vdyo8I7vQ"
      }
    },
    {
      "cell_type": "code",
      "source": [
        "\"\"\"contoh 2:\n",
        "Ubah nilai item array pertama:\"\"\"\n",
        "\n",
        "cars = [\"Ford\", \"Volvo\", \"BMW\"]\n",
        "cars[1] = \"Toyota\"\n",
        "print(cars)"
      ],
      "metadata": {
        "colab": {
          "base_uri": "https://localhost:8080/"
        },
        "id": "myQBWGQ2UKs-",
        "outputId": "4fd82c06-2c74-424b-8473-6f75269ef8b1"
      },
      "execution_count": null,
      "outputs": [
        {
          "output_type": "stream",
          "name": "stdout",
          "text": [
            "['Ford', 'Toyota', 'BMW']\n"
          ]
        }
      ]
    },
    {
      "cell_type": "markdown",
      "source": [
        "- Interpretasi Kode :\n",
        "\n",
        "Mendeklarasikan sebuah list bernama cars yang berisi tiga elemen: \"Ford\", \"Volvo\", dan \"BMW\".\n",
        "\n",
        "Kemudian, mengubah nilai elemen kedua dari list cars. Dalam Python, indeks dimulai dari 0, sehingga cars merujuk pada elemen kedua, yaitu \"Volvo\". Kita menggantinya dengan \"Toyota\". Setelah eksekusi baris ini, list cars akan menjadi: [\"Ford\", \"Toyota\", \"BMW\"].\n",
        "\n",
        "Setelah perubahan yang dilakukan pada langkah sebelumnya, output yang dihasilkan akan menunjukkan list yang telah diperbarui.\n",
        "\n",
        "- Interpretasi Output :\n",
        "\n",
        "Output menunjukkan bahwa elemen kedua dari list cars telah berhasil diubah dari \"Volvo\" menjadi \"Toyota\".\n",
        "List sekarang berisi tiga elemen: \"Ford\", \"Toyota\", dan \"BMW\".\n",
        "\n"
      ],
      "metadata": {
        "id": "rcAHjclAJ4Rz"
      }
    },
    {
      "cell_type": "markdown",
      "source": [
        "3. PANJANG SEBUAH ARRAY"
      ],
      "metadata": {
        "id": "1g41VwuXU-vm"
      }
    },
    {
      "cell_type": "code",
      "source": [
        "\"\"\"contoh 1:\n",
        "Mengembalikan jumlah elemen dalam cars array:\"\"\"\n",
        "\n",
        "cars = [\"Ford\", \"Volvo\", \"BMW\"]\n",
        "x = len(cars)\n",
        "print(x)"
      ],
      "metadata": {
        "colab": {
          "base_uri": "https://localhost:8080/"
        },
        "id": "yAJ0z7vbVGNe",
        "outputId": "1e7d012c-e243-49cf-8d5e-d0aa1ce21e46"
      },
      "execution_count": null,
      "outputs": [
        {
          "output_type": "stream",
          "name": "stdout",
          "text": [
            "3\n"
          ]
        }
      ]
    },
    {
      "cell_type": "markdown",
      "source": [
        "- Interpretasi Kode :\n",
        "\n",
        "Mendeklarasikan sebuah list bernama cars yang berisi tiga elemen: \"Ford\", \"Volvo\", dan \"BMW\".\n",
        "\n",
        "Menggunakan fungsi len() untuk menghitung jumlah elemen dalam list cars. Fungsi len() akan mengembalikan nilai integer yang menunjukkan berapa banyak elemen yang ada dalam list tersebut. len(cars) akan menghasilkan nilai 3 karena ada tiga elemen dalam list.\n",
        "\n",
        "- Interpretasi Output :\n",
        "\n",
        "Output menunjukkan angka 3, yang merupakan jumlah elemen dalam list cars, bahwa terdapat tiga mobil yang terdaftar dalam list: \"Ford\", \"Volvo\", dan \"BMW\".\n",
        "\n",
        "\n"
      ],
      "metadata": {
        "id": "YqJUGrywMPmL"
      }
    },
    {
      "cell_type": "markdown",
      "source": [
        "4. ELEMEN ARRAY PENGULANGAN\n",
        "\n",
        "dapat menggunakan for i in loop untuk mengulang semua elemen array"
      ],
      "metadata": {
        "id": "ALzo_LsZVYzl"
      }
    },
    {
      "cell_type": "code",
      "source": [
        "\"\"\"contoh 1:\n",
        "Cetak setiap item dalam cars array:\"\"\"\n",
        "\n",
        "cars = [\"Ford\", \"Volvo\", \"BMW\"]\n",
        "for x in cars:\n",
        "  print(x)"
      ],
      "metadata": {
        "colab": {
          "base_uri": "https://localhost:8080/"
        },
        "id": "AKATWHMIVgtk",
        "outputId": "591eac31-673d-454a-e93d-d9c8c14c93ef"
      },
      "execution_count": null,
      "outputs": [
        {
          "output_type": "stream",
          "name": "stdout",
          "text": [
            "Ford\n",
            "Volvo\n",
            "BMW\n"
          ]
        }
      ]
    },
    {
      "cell_type": "markdown",
      "source": [
        "- Interpretasi Kode :\n",
        "\n",
        "Menggunakan pernyataan for untuk melakukan iterasi (looping) melalui setiap elemen dalam list cars. Variabel x akan mengambil nilai dari setiap elemen dalam list secara berurutan.\n",
        "\n",
        "- Interpretasi Output :\n",
        "\n",
        "Output menunjukkan setiap elemen dalam list cars dicetak di baris terpisah. Program berhasil mencetak semua mobil yang terdaftar dalam list: \"Ford\", \"Volvo\", dan \"BMW\".\n"
      ],
      "metadata": {
        "id": "HMakjJcrM2p-"
      }
    },
    {
      "cell_type": "markdown",
      "source": [
        "5. MENAMBAHKAN ELEMEN ARRAY\n",
        "\n",
        "dapat menggunakan metode append() untuk menambahkan elemen ke dalam array"
      ],
      "metadata": {
        "id": "kmRpi6aTVysF"
      }
    },
    {
      "cell_type": "code",
      "source": [
        "\"\"\"contoh 1:\n",
        "Tambahkan satu elemen lagi ke cars array:\"\"\"\n",
        "\n",
        "cars = [\"Ford\", \"Volvo\", \"BMW\"]\n",
        "cars.append(\"Supra\")\n",
        "print(cars)"
      ],
      "metadata": {
        "colab": {
          "base_uri": "https://localhost:8080/"
        },
        "id": "u45AqfAeV4Vf",
        "outputId": "9ae0c65a-6f0c-4db2-8e5e-96e6044293bc"
      },
      "execution_count": null,
      "outputs": [
        {
          "output_type": "stream",
          "name": "stdout",
          "text": [
            "['Ford', 'Volvo', 'BMW', 'Supra']\n"
          ]
        }
      ]
    },
    {
      "cell_type": "markdown",
      "source": [
        "- Interpretasi Kode :\n",
        "\n",
        "Menggunakan metode append() untuk menambahkan elemen baru, yaitu \"Supra\", ke akhir list cars. Metode append() akan memperluas list dengan menambahkan elemen baru tanpa mengubah elemen yang sudah ada.\n",
        "\n",
        "- Interpretasi Output :\n",
        "\n",
        "Output menunjukkan bahwa elemen baru \"Supra\" telah berhasil ditambahkan ke akhir list cars. List sekarang berisi empat elemen: \"Ford\", \"Volvo\", \"BMW\", dan \"Supra\".\n",
        "\n"
      ],
      "metadata": {
        "id": "rOmrxky1NXL3"
      }
    },
    {
      "cell_type": "markdown",
      "source": [
        "6. MENGHAPUS ARRAY\n",
        "\n",
        "Menggunakan metode pop() untuk menghapus elemen array"
      ],
      "metadata": {
        "id": "IPCBE5UoWZH-"
      }
    },
    {
      "cell_type": "code",
      "source": [
        "\"\"\"contoh 1:\n",
        "Hapus elemen kedua dari cars array:\"\"\"\n",
        "\n",
        "cars = [\"Ford\", \"Volvo\", \"BMW\"]\n",
        "cars.pop(1)\n",
        "print(cars)"
      ],
      "metadata": {
        "colab": {
          "base_uri": "https://localhost:8080/"
        },
        "id": "QT5EhrHsX0l-",
        "outputId": "1592d938-124f-4a57-eb6a-820e62ed2ba9"
      },
      "execution_count": null,
      "outputs": [
        {
          "output_type": "stream",
          "name": "stdout",
          "text": [
            "['Ford', 'BMW']\n"
          ]
        }
      ]
    },
    {
      "cell_type": "markdown",
      "source": [
        "- Interpretasi Kode :\n",
        "\n",
        "Menggunakan metode pop() untuk menghapus elemen kedua dari list cars. Dalam Python, indeks dimulai dari 0, sehingga cars.pop(1) akan menghapus elemen dengan indeks 1, yaitu \"Volvo\". Metode pop() juga mengembalikan nilai elemen yang dihapus, tetapi dalam kode ini nilainya tidak disimpan.\n",
        "\n",
        "- Interpretasi Output :\n",
        "\n",
        "Output menunjukkan bahwa elemen kedua \"Volvo\" telah berhasil dihapus dari list cars. List sekarang berisi dua elemen: \"Ford\" dan \"BMW\".\n"
      ],
      "metadata": {
        "id": "u9WaV8m_Nx88"
      }
    },
    {
      "cell_type": "markdown",
      "source": [
        "Dapat juga menggunakan metode remove()"
      ],
      "metadata": {
        "id": "dNIKwlOmYFxW"
      }
    },
    {
      "cell_type": "code",
      "source": [
        "\"\"\"contoh 1:\n",
        "Hapus elemen yang memiliki nilai volvo:\"\"\"\n",
        "\n",
        "cars = [\"Ford\", \"Volvo\", \"BMW\"]\n",
        "cars.remove(\"Volvo\")\n",
        "print(cars)"
      ],
      "metadata": {
        "colab": {
          "base_uri": "https://localhost:8080/"
        },
        "id": "TtxcDcZ5YRh9",
        "outputId": "15475fb8-9bc2-4281-865a-927a7898af3c"
      },
      "execution_count": null,
      "outputs": [
        {
          "output_type": "stream",
          "name": "stdout",
          "text": [
            "['Ford', 'BMW']\n"
          ]
        }
      ]
    },
    {
      "cell_type": "markdown",
      "source": [
        "- Interpretasi Kode :\n",
        "\n",
        "menggunakan metode remove() untuk menghapus elemen yang memiliki nilai \"Volvo\" dari list cars.\n",
        "\n",
        "- Interpretasi Output :\n",
        "\n",
        "Output menunjukkan bahwa elemen \"Volvo\" telah berhasil dihapus dari list cars. List sekarang berisi dua elemen: \"Ford\" dan \"BMW\".\n",
        "\n"
      ],
      "metadata": {
        "id": "OATrlIMHORJ7"
      }
    },
    {
      "cell_type": "markdown",
      "source": [
        "#🧠 LATIHAN SOAL DI KELAS ⏱️"
      ],
      "metadata": {
        "id": "KEGjH0_P9D1-"
      }
    },
    {
      "cell_type": "markdown",
      "source": [
        "LATIHAN MODUL 3"
      ],
      "metadata": {
        "id": "-1PJbyy7Z84H"
      }
    },
    {
      "cell_type": "markdown",
      "source": [
        "1. REVERSE"
      ],
      "metadata": {
        "id": "nt7-fY7s9PgC"
      }
    },
    {
      "cell_type": "code",
      "source": [
        "# Fungsi untuk membalik urutan bilangan\n",
        "def reverse_numbers():\n",
        "    # Menerima input N\n",
        "    N = int(input(\"Masukkan N: \"))\n",
        "\n",
        "    # Menginisialisasi list untuk menyimpan bilangan\n",
        "    numbers = []\n",
        "\n",
        "    # Mengumpulkan N bilangan\n",
        "    for i in range(N):\n",
        "        num = int(input())\n",
        "        numbers.append(num)\n",
        "\n",
        "    # Menampilkan hasil dalam urutan terbalik\n",
        "    print(\"Hasil dibalik:\")\n",
        "    for num in reversed(numbers):\n",
        "        print(num, end=' ')\n",
        "\n",
        "# Memanggil fungsi\n",
        "reverse_numbers()"
      ],
      "metadata": {
        "id": "h7si6sBj9Mr4",
        "colab": {
          "base_uri": "https://localhost:8080/"
        },
        "outputId": "4b54e91b-5cfa-42db-9e12-2e5c11cc8337"
      },
      "execution_count": null,
      "outputs": [
        {
          "output_type": "stream",
          "name": "stdout",
          "text": [
            "Masukkan N: 5\n",
            "5\n",
            "2\n",
            "1\n",
            "6\n",
            "3\n",
            "Hasil dibalik:\n",
            "3 6 1 2 5 "
          ]
        }
      ]
    },
    {
      "cell_type": "markdown",
      "source": [
        "\n",
        "\n",
        "*   INTERPRETASI CODING :\n",
        "\n",
        "\n",
        "Fungsi reverse_numbers() untuk mengumpulkan N bilangan dari pengguna dan menyimpannya dalam list.\n",
        "\n",
        "\n",
        "Pengguna diminta memasukkan jumlah bilangan (N) dan kemudian bilangan-bilangan itu satu per satu.\n",
        "\n",
        "\n",
        "Bilangan yang dimasukkan disimpan dalam list numbers.\n",
        "\n",
        "\n",
        "\n",
        "\n",
        "*   INTERPRETASI OUTPUT :\n",
        "\n",
        "Bilangan dicetak dalam urutan terbalik menggunakan reversed().\n",
        "\n",
        "\n"
      ],
      "metadata": {
        "id": "1uJBin5lcJp3"
      }
    },
    {
      "cell_type": "markdown",
      "source": [
        "2. ANAGRAM"
      ],
      "metadata": {
        "id": "_Kko0TEqaCig"
      }
    },
    {
      "cell_type": "code",
      "source": [
        "# Meminta input jumlah elemen dan elemen untuk A\n",
        "nA = int(input(\"Masukkan banyaknya elemen A: \"))\n",
        "A = [int(input(f\"Masukkan elemen A ke-{i+1}: \")) for i in range(nA)]\n",
        "\n",
        "# Meminta input jumlah elemen dan elemen untuk B\n",
        "nB = int(input(\"Masukkan banyaknya elemen B: \"))\n",
        "B = [int(input(f\"Masukkan elemen B ke-{i+1}: \")) for i in range(nB)]\n",
        "\n",
        "# Cek apakah A dan B memiliki jumlah elemen yang sama dan frekuensi elemen yang sama\n",
        "if nA == nB and sorted(A) == sorted(B):\n",
        "    print(\"B adalah anagram dari A\")\n",
        "else:\n",
        "    print(\"B bukan anagram dari A\")"
      ],
      "metadata": {
        "colab": {
          "base_uri": "https://localhost:8080/"
        },
        "id": "jEV3d6ZDaEBX",
        "outputId": "e4ee0341-ce1e-4b2d-8420-c36672d4ed76"
      },
      "execution_count": null,
      "outputs": [
        {
          "output_type": "stream",
          "name": "stdout",
          "text": [
            "Masukkan banyaknya elemen A: 3\n",
            "Masukkan elemen A ke-1: 8\n",
            "Masukkan elemen A ke-2: 4\n",
            "Masukkan elemen A ke-3: 3\n",
            "Masukkan banyaknya elemen B: 3\n",
            "Masukkan elemen B ke-1: 4\n",
            "Masukkan elemen B ke-2: 8\n",
            "Masukkan elemen B ke-3: 3\n",
            "B adalah anagram dari A\n"
          ]
        }
      ]
    },
    {
      "cell_type": "code",
      "source": [
        "# Meminta input jumlah elemen dan elemen untuk A\n",
        "nA = int(input(\"Masukkan banyaknya elemen A: \"))\n",
        "A = [int(input(f\"Masukkan elemen A ke-{i+1}: \")) for i in range(nA)]\n",
        "\n",
        "# Meminta input jumlah elemen dan elemen untuk B\n",
        "nB = int(input(\"Masukkan banyaknya elemen B: \"))\n",
        "B = [int(input(f\"Masukkan elemen B ke-{i+1}: \")) for i in range(nB)]\n",
        "\n",
        "# Cek apakah A dan B memiliki jumlah elemen yang sama dan frekuensi elemen yang sama\n",
        "if nA == nB and sorted(A) == sorted(B):\n",
        "    print(\"B adalah anagram dari A\")\n",
        "else:\n",
        "    print(\"B bukan anagram dari A\")"
      ],
      "metadata": {
        "colab": {
          "base_uri": "https://localhost:8080/"
        },
        "id": "z7ggozmuaVof",
        "outputId": "8920b078-d57b-4e83-81d8-d992d336d75c"
      },
      "execution_count": null,
      "outputs": [
        {
          "output_type": "stream",
          "name": "stdout",
          "text": [
            "Masukkan banyaknya elemen A: 2\n",
            "Masukkan elemen A ke-1: 1\n",
            "Masukkan elemen A ke-2: 4\n",
            "Masukkan banyaknya elemen B: 2\n",
            "Masukkan elemen B ke-1: 1\n",
            "Masukkan elemen B ke-2: 5\n",
            "B bukan anagram dari A\n"
          ]
        }
      ]
    },
    {
      "cell_type": "markdown",
      "source": [
        "- Interpretasi coding:\n",
        "\n",
        "***Input Data:***\n",
        "\n",
        "Kode meminta pengguna untuk memasukkan jumlah elemen dan elemen-elemen dari dua daftar, yaitu A dan B.\n",
        "\n",
        "\n",
        "Pengguna diminta untuk memasukkan setiap elemen satu per satu, dan elemen-elemen tersebut disimpan dalam dua daftar terpisah.\n",
        "\n",
        "\n",
        "***Pemeriksaan Anagram:***\n",
        "\n",
        "Setelah kedua daftar diisi, kode memeriksa dua kondisi:\n",
        "\n",
        "\n",
        "Apakah jumlah elemen di daftar A sama dengan jumlah elemen di daftar B.\n",
        "\n",
        "\n",
        "Apakah elemen-elemen di kedua daftar sama jika diurutkan (frekuensi elemen juga diperiksa).\n",
        "\n",
        "\n",
        "Jika kedua kondisi terpenuhi, maka B dianggap sebagai anagram dari A.\n",
        "\n",
        "\n",
        "- Interpretasi Hasil:\n",
        "\n",
        "***Output \"B adalah anagram dari A\":***\n",
        "\n",
        "Kedua daftar (A dan B) memiliki elemen yang sama dengan frekuensi yang sama, meskipun urutannya mungkin berbeda. Contohnya, jika A berisi [1, 2, 3] dan B berisi [3, 2, 1], maka B adalah anagram dari A.\n",
        "\n",
        "\n",
        "***Output \"B bukan anagram dari A\":***\n",
        "\n",
        "Berarti setidaknya satu dari dua kondisi pemeriksaan tidak terpenuhi. Hal ini bisa terjadi jika jumlah elemen di A dan B berbeda, atau jika ada elemen yang berbeda antara kedua daftar. Contohnya, jika A berisi [1, 2, 3] dan B berisi [4, 5, 6], maka B bukan anagram dari A."
      ],
      "metadata": {
        "id": "Wou8YKfJ9lvY"
      }
    },
    {
      "cell_type": "markdown",
      "source": [
        "3. PALINDROM"
      ],
      "metadata": {
        "id": "Eucg6DUK9fgA"
      }
    },
    {
      "cell_type": "code",
      "source": [
        "# Fungsi untuk mengecek apakah string adalah palindrom\n",
        "def is_palindrome(s):\n",
        "    return s == s[::-1]\n",
        "\n",
        "# Input dari pengguna\n",
        "panjang_string = int(input(\"Masukkan panjang string: \"))\n",
        "string_input = input(\"Masukkan string: \")\n",
        "\n",
        "# Validasi panjang string\n",
        "if len(string_input) != panjang_string:\n",
        "    print(f\"Panjang string yang dimasukkan tidak sesuai. Harusnya {panjang_string}.\")\n",
        "else:\n",
        "    # Cek apakah string adalah palindrom\n",
        "    if is_palindrome(string_input):\n",
        "        print(f\"{string_input} adalah palindrom\")\n",
        "    else:\n",
        "        print(f\"{string_input} bukan palindrom\")"
      ],
      "metadata": {
        "id": "9uWMEZpP9hlB",
        "colab": {
          "base_uri": "https://localhost:8080/"
        },
        "outputId": "ce2145fa-db1f-48a3-81c7-8ac4eda816b1"
      },
      "execution_count": null,
      "outputs": [
        {
          "output_type": "stream",
          "name": "stdout",
          "text": [
            "Masukkan panjang string: 5\n",
            "Masukkan string: Makan\n",
            "Makan bukan palindrom\n"
          ]
        }
      ]
    },
    {
      "cell_type": "code",
      "source": [
        "# Fungsi untuk mengecek apakah string adalah palindrom\n",
        "def is_palindrome(s):\n",
        "    return s == s[::-1]\n",
        "\n",
        "# Input dari pengguna\n",
        "panjang_string = int(input(\"Masukkan panjang string: \"))\n",
        "string_input = input(\"Masukkan string: \")\n",
        "\n",
        "# Validasi panjang string\n",
        "if len(string_input) != panjang_string:\n",
        "    print(f\"Panjang string yang dimasukkan tidak sesuai. Harusnya {panjang_string}.\")\n",
        "else:\n",
        "    # Cek apakah string adalah palindrom\n",
        "    if is_palindrome(string_input):\n",
        "        print(f\"{string_input} adalah palindrom\")\n",
        "    else:\n",
        "        print(f\"{string_input} bukan palindrom\")"
      ],
      "metadata": {
        "colab": {
          "base_uri": "https://localhost:8080/"
        },
        "id": "AEpu8jVUeQ84",
        "outputId": "0a127fb6-0bb7-438d-f928-315e798909e8"
      },
      "execution_count": null,
      "outputs": [
        {
          "output_type": "stream",
          "name": "stdout",
          "text": [
            "Masukkan panjang string: 10\n",
            "Masukkan string: kasurrusak\n",
            "kasurrusak adalah palindrom\n"
          ]
        }
      ]
    },
    {
      "cell_type": "code",
      "source": [
        "# Fungsi untuk mengecek apakah string adalah palindrom\n",
        "def is_palindrome(s):\n",
        "    return s == s[::-1]\n",
        "\n",
        "# Input dari pengguna\n",
        "panjang_string = int(input(\"Masukkan panjang string: \"))\n",
        "string_input = input(\"Masukkan string: \")\n",
        "\n",
        "# Validasi panjang string\n",
        "if len(string_input) != panjang_string:\n",
        "    print(f\"Panjang string yang dimasukkan tidak sesuai. Harusnya {panjang_string}.\")\n",
        "else:\n",
        "    # Cek apakah string adalah palindrom\n",
        "    if is_palindrome(string_input):\n",
        "        print(f\"{string_input} adalah palindrom\")\n",
        "    else:\n",
        "        print(f\"{string_input} bukan palindrom\")"
      ],
      "metadata": {
        "colab": {
          "base_uri": "https://localhost:8080/"
        },
        "id": "txjwZ_hIebOa",
        "outputId": "ed13f5dc-f295-424f-9f8e-0ed9c1ba3744"
      },
      "execution_count": null,
      "outputs": [
        {
          "output_type": "stream",
          "name": "stdout",
          "text": [
            "Masukkan panjang string: 3\n",
            "Masukkan string: apa\n",
            "apa adalah palindrom\n"
          ]
        }
      ]
    },
    {
      "cell_type": "markdown",
      "source": [
        "- Interpretasi coding:\n",
        "\n",
        "***Fungsi is_palindrome(s):*** Fungsi ini menerima sebuah string s dan membandingkannya dengan versi terbalik dari string tersebut (s[::-1]). Jika keduanya sama, maka string tersebut adalah palindrom, dan fungsi mengembalikan True, sebaliknya mengembalikan False.\n",
        "\n",
        "***Input dari pengguna:*** Program meminta pengguna untuk memasukkan panjang string dan string itu sendiri.\n",
        "\n",
        "***Validasi panjang string:*** Program memeriksa apakah panjang string yang dimasukkan sesuai dengan nilai yang diminta. Jika tidak sesuai, program akan memberikan pesan kesalahan.\n",
        "\n",
        "***Pemeriksaan palindrom:*** Jika panjang string sesuai, program akan menggunakan fungsi is_palindrome untuk memeriksa apakah string tersebut palindrom atau bukan, dan kemudian mencetak hasilnya.\n",
        "\n",
        "\n",
        "- Interpretasi Hasil:\n",
        "\n",
        "Jika outputnya menyatakan bahwa string adalah palindrom, berarti string tersebut dapat dibaca sama dari depan maupun belakang (contoh: \"apa\", \"kasurrusak\").\n",
        "\n",
        "Jika outputnya menyatakan bahwa string bukan palindrom, berarti string tersebut tidak dapat dibaca sama dari depan dan belakang (contoh: \"makan\").\n",
        "\n",
        "Pesan kesalahan akan muncul jika panjang string yang dimasukkan tidak sesuai dengan panjang yang telah ditentukan."
      ],
      "metadata": {
        "id": "fM9Fo97_93Ni"
      }
    },
    {
      "cell_type": "markdown",
      "source": [
        "#🏆 POST TEST 🎯"
      ],
      "metadata": {
        "id": "J_75vTSXKFGE"
      }
    },
    {
      "cell_type": "markdown",
      "source": [
        "Problem (1)"
      ],
      "metadata": {
        "id": "twhHfrqiKSfV"
      }
    },
    {
      "cell_type": "code",
      "source": [],
      "metadata": {
        "id": "hOI8Gls9KV05"
      },
      "execution_count": null,
      "outputs": []
    },
    {
      "cell_type": "markdown",
      "source": [
        "- Interpretasi coding:\n",
        "- Interpretasi hasil:"
      ],
      "metadata": {
        "id": "t9x---59KWVI"
      }
    },
    {
      "cell_type": "markdown",
      "source": [
        "📌Catatan:\n",
        "  - Notebook python ini dibuat untuk memudahkan temen-temen belajar ngoding dan pengumpulan tugas.\n",
        "  - Silakan download notebook ini lalu upload di Google Collab milik kalian agar format `pertemuan`, `topik pertemuan`,\n",
        "`tanggal`, `deskripsi pembahasan materi`, `baris coding` dan `interpretasi` bisa disesuaikan dengan kebutuhan teman-teman.\n",
        "\n",
        "  - Interpretasi coding dan hasil dimaksudkan agar teman-teman semakin memahami apa yang dipelajari.\n",
        "\n",
        "  - Deskripsi pembahasan materi dimaksudkan agar teman-teman semakin memahami apa fokus yang dipelajari.\n",
        "\n",
        "  - Tulisan di setiap sebelum baris code disebut `markdown`. Ada beberapa jenis simbol yang memudahkan kepenulisan `markdown` kita, yaitu seperti : untuk mengatur ukuran tulisan biasanya tulisan pada header menggunakan ini`#`, `##`, `###`, untuk membuat pointer menggunakan ini `-`, untuk membuat tulisan ter-highlight menggunakan ini *` `* , untuk short-cut membuat tulisan jadi **bold** gunakan ini `** **`, dan untuk *tulisan miring* gunakan ini `* *` .\n",
        "\n",
        "  - Semangat belajar! 🌟✨\n",
        "\n",
        "©️ LABORATORIUM SAINS DATA 2024"
      ],
      "metadata": {
        "id": "D-tRQnbQK69l"
      }
    }
  ]
}