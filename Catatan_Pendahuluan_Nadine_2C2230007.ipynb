{
  "nbformat": 4,
  "nbformat_minor": 0,
  "metadata": {
    "colab": {
      "provenance": [],
      "include_colab_link": true
    },
    "kernelspec": {
      "name": "python3",
      "display_name": "Python 3"
    },
    "language_info": {
      "name": "python"
    }
  },
  "cells": [
    {
      "cell_type": "markdown",
      "metadata": {
        "id": "view-in-github",
        "colab_type": "text"
      },
      "source": [
        "<a href=\"https://colab.research.google.com/github/nadinevaliaa/SD2104/blob/main/Catatan_Pendahuluan_Nadine_2C2230007.ipynb\" target=\"_parent\"><img src=\"https://colab.research.google.com/assets/colab-badge.svg\" alt=\"Open In Colab\"/></a>"
      ]
    },
    {
      "cell_type": "markdown",
      "source": [
        "#**🖥️👩🏻‍💻PRAKTIKUM PEMROGRAMAN LANJUT🔥**\n",
        "##**Pertemuan (1) PENDAHULUAN DAN PEMILIHAN - Senin, 14 Oktober 2024**\n",
        "\n",
        "👤 Nama: Nadine Valia Azzahra / NRP: 2C2230007 / Kelas: III/A Sains Data\n",
        "\n",
        "💬Deskripsi Pembahasan Materi:\n",
        "\n",
        "**1.1.  Pendahuluan**\n",
        "\n",
        "**1.2. Input & Output**\n",
        "Dalam python, program untuk menulis \"Hello, World!\" adalah sebagai berikut :\n",
        "\n",
        "print(\"Hello, World!\")  # (1)\n",
        "\n",
        "print(\"Ini program\", end=\"\")  # (2)\n",
        "\n",
        "print(\" pertama saya\")  # (3)\n",
        "\n",
        "Bagian yang ditandai nomor 1 bertugas menuliskan \"Hello, World!\" ke layar. Sintaks print akan otomatis\n",
        "memindahkan baris setelah selesai menulis ke layar, kecuali disertai parameter end=\"\". Berarti, output\n",
        "program di atas adalah \"Hello, World!\" diikuti dengan \"Ini program pertama saya \" di baris selanjutnya.\n",
        "\n",
        "**1.3. Tipe Data**\n",
        "Ada beberapa macam tipe data, namun dalam ‘Pengenalan Komputasi’ kita hanya akan banyak menggunakan tipe data berikut:\n",
        "\n",
        "- bool\n",
        "- int\n",
        "- float\n",
        "- string\n",
        "\n",
        "Contoh penggunaan :\n",
        "B = True  # Bilangan Boolean\n",
        "\n",
        "I = 123456789012  # Bilangan bulat\n",
        "\n",
        "R = 2.331973  # Bilangan real\n",
        "\n",
        "S = \"abc\"  # Teks\n",
        "\n",
        "S = 'def'  # Mengganti nilai teks S menjadi 'def'\n",
        "\n",
        "\n",
        "**1.4. Operator**\n",
        "\n",
        "Operator dalam Python adalah simbol atau kata kunci yang digunakan untuk melakukan operasi pada nilai (operand). Operator berfungsi untuk melakukan perhitungan matematika, manipulasi data, atau pengambilan keputusan dalam program. Berikut beberapa jenis operator dalam Python:\n",
        "\n",
        "1.4.1 Operator Aritmatika\n",
        "Digunakan untuk operasi matematika.\n",
        "\n",
        "1.4.2 Operator Assignment (Operator Penugasan)\n",
        "Mengatur atau memperbarui nilai variabel.\n",
        "\n",
        "\n",
        "1.4.3 Operator Relasional (Operator Perbandingan)\n",
        "Membandingkan dua nilai.\n",
        "\n",
        "\n",
        "1.4.4 Operator Logika\n",
        "\n",
        "\n",
        "**1.5. Percabangan**\n",
        "\n",
        "Dalam pemrograman, terdapat percabangan. Dengan demikian, program kita dapat berperilaku tergantung\n",
        "input user.\n",
        "\n",
        "\n",
        "\n",
        "\n",
        "\n",
        "\n",
        "\n"
      ],
      "metadata": {
        "id": "_bN6_LxQCJZT"
      }
    },
    {
      "cell_type": "markdown",
      "source": [
        "#🤸🏻‍♀️ EKSPLORASI PRIBADI DI KELAS ✨"
      ],
      "metadata": {
        "id": "N0U2Qjks8P9F"
      }
    },
    {
      "cell_type": "code",
      "execution_count": null,
      "metadata": {
        "id": "itmMcxv88OIm",
        "colab": {
          "base_uri": "https://localhost:8080/"
        },
        "outputId": "a0031925-9608-4f5b-edcb-fbb21c17a869"
      },
      "outputs": [
        {
          "output_type": "stream",
          "name": "stdout",
          "text": [
            "300\n"
          ]
        }
      ],
      "source": [
        "x = 600\n",
        "y = 2\n",
        "x//y\n",
        "print(x//y)"
      ]
    },
    {
      "cell_type": "markdown",
      "source": [
        "- Interpretasi coding:\n",
        "\n",
        "- Interpretasi Hasil:"
      ],
      "metadata": {
        "id": "f1J9LJyv9-YC"
      }
    },
    {
      "cell_type": "markdown",
      "source": [
        "#🧠 LATIHAN SOAL DI KELAS ⏱️"
      ],
      "metadata": {
        "id": "KEGjH0_P9D1-"
      }
    },
    {
      "cell_type": "markdown",
      "source": [
        "Problem (1) Kalkulator Sederhana"
      ],
      "metadata": {
        "id": "nt7-fY7s9PgC"
      }
    },
    {
      "cell_type": "code",
      "source": [],
      "metadata": {
        "id": "h7si6sBj9Mr4"
      },
      "execution_count": null,
      "outputs": []
    },
    {
      "cell_type": "code",
      "source": [],
      "metadata": {
        "id": "2hhcSedMsSNn"
      },
      "execution_count": null,
      "outputs": []
    },
    {
      "cell_type": "markdown",
      "source": [
        "- Interpretasi coding:\n",
        "\n",
        "- Interpretasi Hasil:"
      ],
      "metadata": {
        "id": "Wou8YKfJ9lvY"
      }
    },
    {
      "cell_type": "markdown",
      "source": [
        "Problem (2) Bilangan Ganjil"
      ],
      "metadata": {
        "id": "Eucg6DUK9fgA"
      }
    },
    {
      "cell_type": "code",
      "source": [],
      "metadata": {
        "id": "9uWMEZpP9hlB"
      },
      "execution_count": null,
      "outputs": []
    },
    {
      "cell_type": "markdown",
      "source": [
        "- Interpretasi coding:\n",
        "\n",
        "- Interpretasi Hasil:"
      ],
      "metadata": {
        "id": "fM9Fo97_93Ni"
      }
    },
    {
      "cell_type": "markdown",
      "source": [
        "#🏆 POST TEST 🎯"
      ],
      "metadata": {
        "id": "J_75vTSXKFGE"
      }
    },
    {
      "cell_type": "markdown",
      "source": [
        "Problem (1)"
      ],
      "metadata": {
        "id": "twhHfrqiKSfV"
      }
    },
    {
      "cell_type": "code",
      "source": [
        "# Nadine Valia Azzahra 2C2230007\n",
        "# 14 Oktober 2024\n",
        "# Problem 1 (program menentukan barang jual dengan keuntungan terbesar)\n",
        "\n",
        "# input harga dasar dan harga jual barang A\n",
        "harga_dasar_A = int(input(\"Masukkan harga dasar barang A: \"))\n",
        "harga_jual_A = int(input(\"Masukkan harga jual barang A: \"))\n",
        "\n",
        "# input harga dasar dan harga jual barang B\n",
        "harga_dasar_B = int(input(\"Masukkan harga dasar barang B: \"))\n",
        "harga_jual_B = int(input(\"Masukkan harga jual barang B: \"))\n",
        "\n",
        "# input harga dasar dan harga jual barang C\n",
        "harga_dasar_C = int(input(\"Masukkan harga dasar barang C: \"))\n",
        "harga_jual_C = int(input(\"Masukkan harga jual barang C: \"))\n",
        "\n",
        "# hitung keuntungan untuk masing-masing barang\n",
        "keuntungan_A = harga_jual_A - harga_dasar_A\n",
        "keuntungan_B = harga_jual_B - harga_dasar_B\n",
        "keuntungan_C = harga_jual_C - harga_dasar_C\n",
        "\n",
        "# menentukan barang dengan keuntungan terbesar\n",
        "if keuntungan_A > keuntungan_B and keuntungan_A > keuntungan_C:\n",
        "    print(\"Barang yang harus ditawarkan adalah barang A\")\n",
        "elif keuntungan_B > keuntungan_A and keuntungan_B > keuntungan_C:\n",
        "    print(\"Barang yang harus ditawarkan adalah barang B\")\n",
        "else:\n",
        "\n",
        "# menampilkan hasil\n",
        "    print(\"Barang yang harus ditawarkan adalah barang C\")"
      ],
      "metadata": {
        "id": "hOI8Gls9KV05",
        "colab": {
          "base_uri": "https://localhost:8080/"
        },
        "outputId": "b53d8d02-cbdd-4195-c0fc-009c2d6e7abd"
      },
      "execution_count": null,
      "outputs": [
        {
          "output_type": "stream",
          "name": "stdout",
          "text": [
            "Masukkan harga dasar barang A: 10\n",
            "Masukkan harga jual barang A: 15\n",
            "Masukkan harga dasar barang B: 10\n",
            "Masukkan harga jual barang B: 12\n",
            "Masukkan harga dasar barang C: 10\n",
            "Masukkan harga jual barang C: 11\n",
            "Barang yang harus ditawarkan adalah barang A\n"
          ]
        }
      ]
    },
    {
      "cell_type": "code",
      "source": [
        "# Nadine Valia Azzahra 2C2230007\n",
        "# 14 Oktober 2024\n",
        "# Problem 1 (program menentukan barang jual dengan keuntungan terbesar)\n",
        "\n",
        "# input harga dasar dan harga jual barang A\n",
        "harga_dasar_A = int(input(\"Masukkan harga dasar barang A: \"))\n",
        "harga_jual_A = int(input(\"Masukkan harga jual barang A: \"))\n",
        "\n",
        "# input harga dasar dan harga jual barang B\n",
        "harga_dasar_B = int(input(\"Masukkan harga dasar barang B: \"))\n",
        "harga_jual_B = int(input(\"Masukkan harga jual barang B: \"))\n",
        "\n",
        "# input harga dasar dan harga jual barang C\n",
        "harga_dasar_C = int(input(\"Masukkan harga dasar barang C: \"))\n",
        "harga_jual_C = int(input(\"Masukkan harga jual barang C: \"))\n",
        "\n",
        "# hitung keuntungan untuk masing-masing barang\n",
        "keuntungan_A = harga_jual_A - harga_dasar_A\n",
        "keuntungan_B = harga_jual_B - harga_dasar_B\n",
        "keuntungan_C = harga_jual_C - harga_dasar_C\n",
        "\n",
        "# menentukan barang dengan keuntungan terbesar\n",
        "if keuntungan_A > keuntungan_B and keuntungan_A > keuntungan_C:\n",
        "    print(\"Barang yang harus ditawarkan adalah barang A\")\n",
        "elif keuntungan_B > keuntungan_A and keuntungan_B > keuntungan_C:\n",
        "    print(\"Barang yang harus ditawarkan adalah barang B\")\n",
        "else:\n",
        "\n",
        "# menampilkan hasil\n",
        "    print(\"Barang yang harus ditawarkan adalah barang C\")1"
      ],
      "metadata": {
        "colab": {
          "base_uri": "https://localhost:8080/"
        },
        "id": "zJzHLlcdtRr-",
        "outputId": "c615fe02-dfdc-470f-bfa9-f528e9635719"
      },
      "execution_count": null,
      "outputs": [
        {
          "output_type": "stream",
          "name": "stdout",
          "text": [
            "Masukkan harga dasar barang A: 8\n",
            "Masukkan harga jual barang A: 11\n",
            "Masukkan harga dasar barang B: 7\n",
            "Masukkan harga jual barang B: 12\n",
            "Masukkan harga dasar barang C: 6\n",
            "Masukkan harga jual barang C: 12\n",
            "Barang yang harus ditawarkan adalah barang C\n"
          ]
        }
      ]
    },
    {
      "cell_type": "markdown",
      "source": [
        "- Interpretasi coding:\n",
        "- Interpretasi hasil:"
      ],
      "metadata": {
        "id": "t9x---59KWVI"
      }
    },
    {
      "cell_type": "markdown",
      "source": [
        "Problem (2)"
      ],
      "metadata": {
        "id": "6j4s0huJtlAl"
      }
    },
    {
      "cell_type": "code",
      "source": [
        "# Nadine Valia Azzahra 2C2230007\n",
        "# 14 Oktober 2024\n",
        "# Problem 2 (program menentukan kelas mahasiswa berdasarkan NRP akhir)\n",
        "\n",
        "def kelas_mahasiswa(nrp_akhir):\n",
        "  nrp_akhir = int(nrp_akhir)\n",
        "\n",
        "  # menentukan kelas berdasarkan rentang NRP\n",
        "  if 1 <= nrp_akhir <= 100:\n",
        "    return \"K1\" if nrp_akhir % 2 != 0 else \"K2\"\n",
        "  elif 101 <= nrp_akhir <= 200:\n",
        "    return \"K3\" if nrp_akhir % 2 != 0 else \"K4\"\n",
        "  elif 201 <= nrp_akhir <= 300:\n",
        "    return \"K5\" if nrp_akhir % 2 != 0 else \"K6\"\n",
        "  elif nrp_akhir > 300:\n",
        "    return \"K7\" if nrp_akhir % 2 != 0 else \"K8\"\n",
        "  else:\n",
        "    return \"NRP Tidak Valid\"\n",
        "\n",
        "# input 3 digit terakhir NRP mahasiswa\n",
        "nrp = input(\"Masukkan 3 digit terakhir NRP: \")\n",
        "kelas = kelas_mahasiswa(nrp)\n",
        "\n",
        "# menampilkan hasil\n",
        "print(f\"Mahasiswa dengan NRP {nrp} berada di kelas {kelas}.\")"
      ],
      "metadata": {
        "colab": {
          "base_uri": "https://localhost:8080/"
        },
        "id": "WisuRTskt0Fq",
        "outputId": "cef861c5-1d0c-42bf-980d-10e6ac29d445"
      },
      "execution_count": null,
      "outputs": [
        {
          "output_type": "stream",
          "name": "stdout",
          "text": [
            "Masukkan 3 digit terakhir NRP: 121\n",
            "Mahasiswa dengan NRP 121 berada di kelas K3.\n"
          ]
        }
      ]
    },
    {
      "cell_type": "code",
      "source": [
        "# Nadine Valia Azzahra 2C2230007\n",
        "# 14 Oktober 2024\n",
        "# Problem 2 (program menentukan kelas mahasiswa berdasarkan NRP akhir)\n",
        "\n",
        "def kelas_mahasiswa(nrp_akhir):\n",
        "  nrp_akhir = int(nrp_akhir)\n",
        "\n",
        "  # menentukan kelas berdasarkan rentang NRP\n",
        "  if 1 <= nrp_akhir <= 100:\n",
        "    return \"K1\" if nrp_akhir % 2 != 0 else \"K2\"\n",
        "  elif 101 <= nrp_akhir <= 200:\n",
        "    return \"K3\" if nrp_akhir % 2 != 0 else \"K4\"\n",
        "  elif 201 <= nrp_akhir <= 300:\n",
        "    return \"K5\" if nrp_akhir % 2 != 0 else \"K6\"\n",
        "  elif nrp_akhir > 300:\n",
        "    return \"K7\" if nrp_akhir % 2 != 0 else \"K8\"\n",
        "  else:\n",
        "    return \"NRP Tidak Valid\"\n",
        "\n",
        "# input 3 digit terakhir NRP mahasiswa\n",
        "nrp = input(\"Masukkan 3 digit terakhir NRP: \")\n",
        "kelas = kelas_mahasiswa(nrp)\n",
        "\n",
        "# menampilkan hasil\n",
        "print(f\"Mahasiswa dengan NRP {nrp} berada di kelas {kelas}.\")"
      ],
      "metadata": {
        "colab": {
          "base_uri": "https://localhost:8080/"
        },
        "id": "qscvIsQZt-Q_",
        "outputId": "61513a4e-9acb-47c7-850d-121c0c2252f1"
      },
      "execution_count": null,
      "outputs": [
        {
          "output_type": "stream",
          "name": "stdout",
          "text": [
            "Masukkan 3 digit terakhir NRP: 544\n",
            "Mahasiswa dengan NRP 544 berada di kelas K8.\n"
          ]
        }
      ]
    },
    {
      "cell_type": "markdown",
      "source": [
        "📌Catatan:\n",
        "  - Notebook python ini dibuat untuk memudahkan temen-temen belajar ngoding dan pengumpulan tugas.\n",
        "  - Silakan download notebook ini lalu upload di Google Collab milik kalian agar format `pertemuan`, `topik pertemuan`,\n",
        "`tanggal`, `deskripsi pembahasan materi`, `baris coding` dan `interpretasi` bisa disesuaikan dengan kebutuhan teman-teman.\n",
        "\n",
        "  - Interpretasi coding dan hasil dimaksudkan agar teman-teman semakin memahami apa yang dipelajari.\n",
        "\n",
        "  - Deskripsi pembahasan materi dimaksudkan agar teman-teman semakin memahami apa fokus yang dipelajari.\n",
        "\n",
        "  - Tulisan di setiap sebelum baris code disebut `markdown`. Ada beberapa jenis simbol yang memudahkan kepenulisan `markdown` kita, yaitu seperti : untuk mengatur ukuran tulisan biasanya tulisan pada header menggunakan ini`#`, `##`, `###`, untuk membuat pointer menggunakan ini `-`, untuk membuat tulisan ter-highlight menggunakan ini *` `* , untuk short-cut membuat tulisan jadi **bold** gunakan ini `** **`, dan untuk *tulisan miring* gunakan ini `* *` .\n",
        "\n",
        "  - Semangat belajar! 🌟✨\n",
        "\n",
        "©️ LABORATORIUM SAINS DATA 2024"
      ],
      "metadata": {
        "id": "D-tRQnbQK69l"
      }
    }
  ]
}